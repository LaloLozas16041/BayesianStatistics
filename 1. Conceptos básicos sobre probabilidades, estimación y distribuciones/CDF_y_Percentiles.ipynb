{
  "nbformat": 4,
  "nbformat_minor": 0,
  "metadata": {
    "colab": {
      "name": "CDF y Percentiles.ipynb",
      "provenance": []
    },
    "kernelspec": {
      "name": "python3",
      "display_name": "Python 3"
    },
    "language_info": {
      "name": "python"
    }
  },
  "cells": [
    {
      "cell_type": "code",
      "metadata": {
        "id": "wpEJTBL9dvOK"
      },
      "source": [
        "import numpy as np\n",
        "import matplotlib.pyplot as plt\n",
        "import random\n",
        "from scipy.stats import norm"
      ],
      "execution_count": 1,
      "outputs": []
    },
    {
      "cell_type": "code",
      "metadata": {
        "id": "LlZmRVIEd-e1"
      },
      "source": [
        "mu=170\n",
        "sd=7"
      ],
      "execution_count": 2,
      "outputs": []
    },
    {
      "cell_type": "code",
      "metadata": {
        "colab": {
          "base_uri": "https://localhost:8080/"
        },
        "id": "oTXWBAVgeCSR",
        "outputId": "c534477b-5e89-4f55-fb22-dbfd7d04c762"
      },
      "source": [
        "# Generar datos de una Normal(170,7^2)\n",
        "x=norm.rvs(loc=mu, scale=sd, size=100)\n",
        "x"
      ],
      "execution_count": 6,
      "outputs": [
        {
          "output_type": "execute_result",
          "data": {
            "text/plain": [
              "array([170.28578143, 165.73732562, 178.72860441, 167.25970938,\n",
              "       180.72634847, 166.02635355, 169.38515748, 170.38334759,\n",
              "       170.13311904, 162.71329794, 159.52304714, 173.23931222,\n",
              "       166.74278795, 170.4388905 , 177.32757248, 168.5667801 ,\n",
              "       170.67259612, 155.14613854, 176.21356258, 170.78534007,\n",
              "       164.47121296, 161.88733231, 170.41523637, 159.47337239,\n",
              "       173.33706543, 178.1552459 , 172.98611847, 163.00596435,\n",
              "       170.32809102, 162.26649847, 176.55826457, 157.85937586,\n",
              "       169.23567128, 175.57726191, 166.4894999 , 168.24576533,\n",
              "       167.05298213, 171.32032526, 162.64548826, 167.46746475,\n",
              "       159.25773125, 157.55352689, 171.72683502, 168.51546494,\n",
              "       171.44408846, 159.79785357, 166.18770269, 174.69043116,\n",
              "       167.15924031, 170.67407117, 153.59023784, 171.0392938 ,\n",
              "       172.62961478, 171.68702867, 158.41146137, 167.65479371,\n",
              "       164.80082304, 163.69283252, 163.46183371, 167.76316044,\n",
              "       165.42154551, 170.6932652 , 169.06495975, 156.85775447,\n",
              "       171.15635163, 166.14705927, 184.4243491 , 162.95354731,\n",
              "       165.39907955, 167.95281132, 162.66118662, 161.77661663,\n",
              "       167.90112913, 166.71220443, 175.55939118, 178.63826415,\n",
              "       168.46497226, 168.95116636, 168.43155755, 157.5273231 ,\n",
              "       170.99948406, 167.11909618, 171.65519565, 174.51532902,\n",
              "       161.25908486, 167.55472739, 173.10132704, 167.2871598 ,\n",
              "       180.02838019, 171.46823494, 171.57166774, 179.31084631,\n",
              "       168.76949975, 174.66269253, 164.36340494, 168.50831765,\n",
              "       176.31859602, 169.39035179, 170.6495064 , 172.59929551])"
            ]
          },
          "metadata": {
            "tags": []
          },
          "execution_count": 6
        }
      ]
    },
    {
      "cell_type": "code",
      "metadata": {
        "colab": {
          "base_uri": "https://localhost:8080/",
          "height": 265
        },
        "id": "UN0Nmba4gNUq",
        "outputId": "73fd132e-7b0a-49c1-8bba-0c0948564d47"
      },
      "source": [
        "plt.hist(x);"
      ],
      "execution_count": 7,
      "outputs": [
        {
          "output_type": "display_data",
          "data": {
            "image/png": "[encoded data removed]",
            "text/plain": [
              "<Figure size 432x288 with 1 Axes>"
            ]
          },
          "metadata": {
            "tags": [],
            "needs_background": "light"
          }
        }
      ]
    },
    {
      "cell_type": "code",
      "metadata": {
        "colab": {
          "base_uri": "https://localhost:8080/"
        },
        "id": "Hcnd8Sk0eMt9",
        "outputId": "8f165bf0-4bef-4dc5-b42d-50d9ed55d7e7"
      },
      "source": [
        "# Media MLE\n",
        "x.mean()"
      ],
      "execution_count": 9,
      "outputs": [
        {
          "output_type": "execute_result",
          "data": {
            "text/plain": [
              "168.48378067111582"
            ]
          },
          "metadata": {
            "tags": []
          },
          "execution_count": 9
        }
      ]
    },
    {
      "cell_type": "code",
      "metadata": {
        "colab": {
          "base_uri": "https://localhost:8080/"
        },
        "id": "kLhJbIQVfTT6",
        "outputId": "ad8fda41-e988-43ba-8fec-ae3ff1c3857a"
      },
      "source": [
        "# Varianza MLE\n",
        "x.var()"
      ],
      "execution_count": 10,
      "outputs": [
        {
          "output_type": "execute_result",
          "data": {
            "text/plain": [
              "35.02450276772575"
            ]
          },
          "metadata": {
            "tags": []
          },
          "execution_count": 10
        }
      ]
    },
    {
      "cell_type": "code",
      "metadata": {
        "colab": {
          "base_uri": "https://localhost:8080/"
        },
        "id": "ASZmfqAQfY-F",
        "outputId": "82f22a42-d399-4a08-877c-64d00327894c"
      },
      "source": [
        "# Desviacion tipica MLE\n",
        "x.std()"
      ],
      "execution_count": 11,
      "outputs": [
        {
          "output_type": "execute_result",
          "data": {
            "text/plain": [
              "5.918150282624272"
            ]
          },
          "metadata": {
            "tags": []
          },
          "execution_count": 11
        }
      ]
    },
    {
      "cell_type": "code",
      "metadata": {
        "colab": {
          "base_uri": "https://localhost:8080/"
        },
        "id": "bJdCBRZZfdjz",
        "outputId": "40169ca8-e27e-4f3e-847a-5e8a1a2e3dd5"
      },
      "source": [
        "# Varianza insesgada (cuasivarianza)\n",
        "x.var(ddof=1)"
      ],
      "execution_count": 12,
      "outputs": [
        {
          "output_type": "execute_result",
          "data": {
            "text/plain": [
              "35.378285623965404"
            ]
          },
          "metadata": {
            "tags": []
          },
          "execution_count": 12
        }
      ]
    },
    {
      "cell_type": "code",
      "metadata": {
        "colab": {
          "base_uri": "https://localhost:8080/"
        },
        "id": "T3-3D_Gffjjb",
        "outputId": "4a862d58-f617-4e9d-d6a1-ffadabcfc1d3"
      },
      "source": [
        "# Desviacion tipica insesgada (cuasidesviacion tipica)\n",
        "x.std(ddof=1)"
      ],
      "execution_count": 13,
      "outputs": [
        {
          "output_type": "execute_result",
          "data": {
            "text/plain": [
              "5.947964830424387"
            ]
          },
          "metadata": {
            "tags": []
          },
          "execution_count": 13
        }
      ]
    },
    {
      "cell_type": "code",
      "metadata": {
        "colab": {
          "base_uri": "https://localhost:8080/"
        },
        "id": "3xrS8p5bfn04",
        "outputId": "b839af29-7d52-4f8a-ff0b-8e1117f0de69"
      },
      "source": [
        "# Qué altura tiene alguien que está en el percentil 95?\n",
        "norm.ppf(0.95, loc=mu, scale=sd)"
      ],
      "execution_count": 15,
      "outputs": [
        {
          "output_type": "execute_result",
          "data": {
            "text/plain": [
              "181.5139753886603"
            ]
          },
          "metadata": {
            "tags": []
          },
          "execution_count": 15
        }
      ]
    },
    {
      "cell_type": "code",
      "metadata": {
        "id": "wndHLnYvjxxa"
      },
      "source": [
        "norm.ppf?"
      ],
      "execution_count": 16,
      "outputs": []
    },
    {
      "cell_type": "code",
      "metadata": {
        "id": "uk1JOptQm9jV"
      },
      "source": [
        "norm.cdf?"
      ],
      "execution_count": null,
      "outputs": []
    },
    {
      "cell_type": "code",
      "metadata": {
        "colab": {
          "base_uri": "https://localhost:8080/"
        },
        "id": "FfFloAN9fxmi",
        "outputId": "3196091e-c0f9-4612-e2db-df8b959473c1"
      },
      "source": [
        "# Si mides 160cm de altura, en qué percentil estás? (la probabilidad de que alguien sea más bajo que tú)\n",
        "norm.cdf(160, loc=mu, scale=sd)"
      ],
      "execution_count": 17,
      "outputs": [
        {
          "output_type": "execute_result",
          "data": {
            "text/plain": [
              "0.07656372550983476"
            ]
          },
          "metadata": {
            "tags": []
          },
          "execution_count": 17
        }
      ]
    },
    {
      "cell_type": "code",
      "metadata": {
        "colab": {
          "base_uri": "https://localhost:8080/"
        },
        "id": "Torfs_eWf7wI",
        "outputId": "53eb705b-45dd-4941-c985-04a6ae322a61"
      },
      "source": [
        "# Si mides 160cm, cuál es la probabilidad de que alguien sea más alto que tú?\n",
        "1-norm.cdf(160, loc=mu, scale=sd)"
      ],
      "execution_count": 18,
      "outputs": [
        {
          "output_type": "execute_result",
          "data": {
            "text/plain": [
              "0.9234362744901652"
            ]
          },
          "metadata": {
            "tags": []
          },
          "execution_count": 18
        }
      ]
    }
  ]
}