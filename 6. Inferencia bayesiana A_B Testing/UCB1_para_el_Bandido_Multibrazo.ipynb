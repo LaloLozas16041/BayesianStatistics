{
  "nbformat": 4,
  "nbformat_minor": 0,
  "metadata": {
    "colab": {
      "name": "UCB1 para el Bandido Multibrazo.ipynb",
      "provenance": []
    },
    "kernelspec": {
      "name": "python3",
      "display_name": "Python 3"
    },
    "language_info": {
      "name": "python"
    }
  },
  "cells": [
    {
      "cell_type": "markdown",
      "metadata": {
        "id": "scoHQXP-QgTZ"
      },
      "source": [
        "# UCB1"
      ]
    },
    {
      "cell_type": "code",
      "metadata": {
        "id": "zCF_b2XrVLKj"
      },
      "source": [
        "import numpy as np\n",
        "import matplotlib.pyplot as plt\n",
        "\n",
        "class Epsilon:\n",
        "    \"\"\"\n",
        "    Agente que soluciona el problema del el Bandido Multibrazo\n",
        "    (Multi-Armed Bandit) mediante el uso de una estrategia Epsilon\n",
        "    Greedy\n",
        "    \n",
        "    Parámetros\n",
        "    ----------\n",
        "    bandits : array of Bandit\n",
        "        Vector con los bandidos con los que se debe jugar\n",
        "    epsilon : float\n",
        "        Porcentaje de veces en las que el agente jugada de forma\n",
        "        aleatoria\n",
        "    decay : float\n",
        "        Velocidad con la que decae la probabilidad de seleccionar una\n",
        "        jugada al azar\n",
        "    initial: array of float\n",
        "        Valor inicial de la recompensa esperada para cada uno de\n",
        "        bandidos\n",
        "    Métodos\n",
        "    -------\n",
        "    run :\n",
        "        Realiza una tirada en el bandido\n",
        "    average_reward :\n",
        "        Obtención de la recompensa promedio\n",
        "    plot :\n",
        "        Representación gráfica del histórico de jugadas\n",
        "    reset :\n",
        "        Reinicia el agente\n",
        "    \"\"\"\n",
        "    \n",
        "    def __init__(self, bandits, epsilon=0.05, decay=1, initial=None):\n",
        "        self.bandits = bandits\n",
        "        self.epsilon = epsilon\n",
        "        self.decay = decay\n",
        "        self.reset(initial)\n",
        "        \n",
        "        \n",
        "    def run(self, episodes=1):\n",
        "        for i in range(episodes):\n",
        "            prob = np.random.random()\n",
        "            \n",
        "            # Selección entre la jugada aleatoria o avariciosa\n",
        "            if prob < self._epsilon:\n",
        "                bandit = np.random.choice(len(bandits))\n",
        "            else:\n",
        "                max_bandits = np.where(self._mean == np.max(self._mean))[0]\n",
        "                bandit = np.random.choice(max_bandits)\n",
        "\n",
        "            # Decaimiento del parámetro epsilon\n",
        "            self._epsilon *= self.decay\n",
        "            \n",
        "            # Obtención de una nueva recompensa\n",
        "            reward = bandits[bandit].pull()\n",
        "            \n",
        "            # Agregación de la recompensa al listado\n",
        "            self._rewards.append(reward)\n",
        "            \n",
        "            # Actualización de la media\n",
        "            self._plays[bandit] += 1\n",
        "            self._mean[bandit] = (1 - 1.0/self._plays[bandit]) * self._mean[bandit] \\\n",
        "                                 + 1.0/self._plays[bandit] * reward\n",
        "        \n",
        "        return self.average_reward()\n",
        "    \n",
        "    \n",
        "    def average_reward(self):\n",
        "        return np.mean(self._rewards)\n",
        "    \n",
        "    \n",
        "    def plot(self, log=False, reference=False, label=None):\n",
        "        cumulative_average = np.cumsum(self._rewards) / (np.arange(len(self._rewards)) + 1)\n",
        "        \n",
        "        if label is None:\n",
        "            plt.plot(range(len(self._rewards)), cumulative_average)\n",
        "        else:\n",
        "            plt.plot(range(len(self._rewards)), cumulative_average, label=label)\n",
        "            \n",
        "        if reference:\n",
        "            for reward in [b.reward for b in self.bandits]:\n",
        "                plt.plot([0, len(self._rewards)], [reward, reward],\n",
        "                         label=f'reward={reward}')\n",
        "                \n",
        "        if log:\n",
        "            plt.xscale('log')\n",
        "    \n",
        "    \n",
        "    def reset(self, initial=None):\n",
        "        self._rewards = []\n",
        "        \n",
        "        if initial is None:\n",
        "            self._epsilon = self.epsilon\n",
        "            self._plays = [0] * len(self.bandits)\n",
        "            self._mean = [0] * len(self.bandits)\n",
        "        else:\n",
        "            self._epsilon = 0\n",
        "            self._plays = [1] * len(self.bandits)\n",
        "            self._mean = initial"
      ],
      "execution_count": 2,
      "outputs": []
    },
    {
      "cell_type": "code",
      "metadata": {
        "id": "yk_koQT0VUps"
      },
      "source": [
        "class Bandit:\n",
        "    \"\"\"\n",
        "    Implementación de un Bandido Multibrazo (Multi-Armed Bandit) basado\n",
        "    en una distribución binomial\n",
        "\n",
        "    Parámetros\n",
        "    ----------\n",
        "    number: integer\n",
        "        Número de recompensas que puede devolver el agente\n",
        "    probability : float\n",
        "        Probabilidad de que el objeto devuelva una recompensa\n",
        "    \n",
        "    Métodos\n",
        "    -------\n",
        "    pull :\n",
        "        Realiza una tirada en el bandido\n",
        "        \n",
        "    \"\"\"\n",
        "    def __init__(self, probability, number=1):\n",
        "        self.number = number\n",
        "        self.probability = probability\n",
        "        self.reward = self.number * self.probability\n",
        "        \n",
        "        \n",
        "    def pull(self):        \n",
        "        return np.random.binomial(self.number, self.probability) \n",
        "        "
      ],
      "execution_count": 5,
      "outputs": []
    },
    {
      "cell_type": "code",
      "metadata": {
        "id": "ojWE8dYePg4b"
      },
      "source": [
        "class UCB(Epsilon):\n",
        "    def __init__(self, bandits):\n",
        "        self.bandits = bandits\n",
        "        \n",
        "        self.reset()\n",
        "    def run(self, episodes=1):\n",
        "        for i in range(episodes):\n",
        "            # Selección del bandido\n",
        "            bandit = self.select()\n",
        "            \n",
        "            # Obtención de una nueva recompensa\n",
        "            reward = bandits[bandit].pull()\n",
        "            \n",
        "            # Agregación de la recompensa al listado\n",
        "            self._rewards.append(reward)\n",
        "            \n",
        "            # Actualización de la media\n",
        "            self._rewards2[bandit] += reward ** 2\n",
        "            self._plays[bandit] += 1\n",
        "            self._mean[bandit] = (1 - 1.0/self._plays[bandit]) * self._mean[bandit] \\\n",
        "                                 + 1.0/self._plays[bandit] * reward\n",
        "        \n",
        "        return self.average_reward()\n",
        "    def select(self):\n",
        "        num_bandits = len(self.bandits)\n",
        "        total = len(self._rewards)\n",
        "        \n",
        "        if total == 0:\n",
        "            bandit = np.random.choice(len(bandits))\n",
        "        else:\n",
        "            ucb = [0] * num_bandits\n",
        "            \n",
        "            for i in range(num_bandits):\n",
        "                if self._plays[i] == 0:\n",
        "                    ucb[i] = self._mean[i] + np.sqrt(2 * np.log(total))\n",
        "                else:\n",
        "                    ucb[i] = self._mean[i] + np.sqrt(2 * np.log(total) / self._plays[i])\n",
        "        \n",
        "            max_bandits = np.where(ucb == np.max(ucb))[0]\n",
        "            bandit = np.random.choice(max_bandits)\n",
        "            \n",
        "        return bandit\n",
        "    \n",
        "    \n",
        "    def reset(self, initial=None):\n",
        "        self._rewards = []\n",
        "        self._plays = [0] * len(self.bandits)\n",
        "        self._mean = [0] * len(self.bandits)\n",
        "        self._rewards2 = [0] * len(self.bandits)"
      ],
      "execution_count": 6,
      "outputs": []
    },
    {
      "cell_type": "code",
      "metadata": {
        "colab": {
          "base_uri": "https://localhost:8080/",
          "height": 286
        },
        "id": "inF7gXTHPkSY",
        "outputId": "4a9e704c-0e47-4f4f-b5ba-4469a6cac418"
      },
      "source": [
        "np.random.seed(0)\n",
        "\n",
        "bandits = [Bandit(0.02), Bandit(0.06), Bandit(0.10)]\n",
        "\n",
        "ucb_1 = UCB(bandits)\n",
        "ucb_1.run(20000)\n",
        "ucb_1.plot(True, True, label='UCB-1')\n",
        "plt.legend()"
      ],
      "execution_count": 7,
      "outputs": [
        {
          "output_type": "execute_result",
          "data": {
            "text/plain": [
              "<matplotlib.legend.Legend at 0x7fa2d4605810>"
            ]
          },
          "metadata": {
            "tags": []
          },
          "execution_count": 7
        },
        {
          "output_type": "display_data",
          "data": {
            "image/png": "[encoded data removed]",
            "text/plain": [
              "<Figure size 432x288 with 1 Axes>"
            ]
          },
          "metadata": {
            "tags": [],
            "needs_background": "light"
          }
        }
      ]
    },
    {
      "cell_type": "markdown",
      "metadata": {
        "id": "jKZ6XNeQRdBl"
      },
      "source": [
        "# UCB1-Normal:\n",
        "El método UCB1-Normal es una mejora de UCB1 en el que se asume que las recompensas de cada uno de los bandidos son generadas mediante una distribución Normal. Lo que permite seleccionar al mejor bandido en base al nivel de confianza que se deduce de esta distribución. Minimizando de este modo el número de tiradas en fase de exploración.\n",
        "\n",
        "Una de las características de este UCB1-Normal es el hecho de garantizar un mínimo de jugadas para cada uno de los bandidos. Evitando de este modo que algunos de los bandidos no se exploren debido a una mala racha inicial. Aunque esto puede conllevar una menor explotación de los resultados."
      ]
    },
    {
      "cell_type": "code",
      "metadata": {
        "id": "frhRuaKx0UcL"
      },
      "source": [
        "class UCBNormal(Epsilon):\n",
        "    def __init__(self, bandits):\n",
        "        self.bandits = bandits\n",
        "        \n",
        "        self.reset()\n",
        "    \n",
        "    def run(self, episodes=1):\n",
        "        for i in range(episodes):\n",
        "            # Selección del bandido\n",
        "            bandit = self.select()\n",
        "            \n",
        "            # Obtención de una nueva recompensa\n",
        "            reward = bandits[bandit].pull()\n",
        "            \n",
        "            # Agregación de la recompensa al listado\n",
        "            self._rewards.append(reward)\n",
        "            \n",
        "            # Actualización de la media\n",
        "            self._rewards2[bandit] += reward ** 2\n",
        "            self._plays[bandit] += 1\n",
        "            self._mean[bandit] = (1 - 1.0/self._plays[bandit]) * self._mean[bandit] \\\n",
        "                                 + 1.0/self._plays[bandit] * reward\n",
        "        \n",
        "        return self.average_reward()\n",
        "    \n",
        "    \n",
        "    def select(self):\n",
        "        num_bandits = len(self.bandits)\n",
        "        total = len(self._rewards)\n",
        "        \n",
        "        # Número de veces mínimo que debe jugar cada bandido\n",
        "        if total > 0:\n",
        "            min_plays = np.ceil(8 * np.log(total))\n",
        "        else:\n",
        "            min_plays = 1\n",
        "        \n",
        "        # En caso de que algún bandido no jugase el mínimo de veces se selecciona ese\n",
        "        if np.any(np.array(self._plays) < min_plays):\n",
        "            min_bandit = np.where(np.array(self._plays) < min_plays)[0]\n",
        "            bandit = np.random.choice(min_bandit)\n",
        "        else:\n",
        "            ucb = [0] * num_bandits\n",
        "            \n",
        "            for i in range(num_bandits):\n",
        "                if self._plays[i] > 1:\n",
        "                    bonus = 16 * (self._rewards2[i] - self._plays[i] * self._mean[i]**2) / (self._plays[i] - 1)\n",
        "                    bonus *= np.log(total - 1) / self._plays[i]\n",
        "                    bonus = np.sqrt(bonus)\n",
        "                    ucb[i] = self._mean[i] + bonus\n",
        "                else:\n",
        "                    ucb[i] = self._mean[i]\n",
        "                    \n",
        "            max_bandits = np.where(ucb == np.max(ucb))[0]\n",
        "            bandit = np.random.choice(max_bandits)\n",
        "            \n",
        "        return bandit\n",
        "    \n",
        "    \n",
        "    def reset(self, initial=None):\n",
        "        self._rewards = []\n",
        "        self._plays = [0] * len(self.bandits)\n",
        "        self._mean = [0] * len(self.bandits)\n",
        "        self._rewards2 = [0] * len(self.bandits)"
      ],
      "execution_count": 8,
      "outputs": []
    },
    {
      "cell_type": "code",
      "metadata": {
        "colab": {
          "base_uri": "https://localhost:8080/",
          "height": 286
        },
        "id": "kySn2IVvMvNT",
        "outputId": "fc392c5a-4c70-4b15-e212-d4d96ecc1e0a"
      },
      "source": [
        "np.random.seed(0)\n",
        "\n",
        "bandits = [Bandit(0.02), Bandit(0.06), Bandit(0.10)]\n",
        "\n",
        "ucb_n = UCBNormal(bandits)\n",
        "ucb_1 = UCB(bandits)\n",
        "\n",
        "ucb_n.run(200000)\n",
        "ucb_1.run(200000)\n",
        "ucb_n.plot(True, label='UCB1-Normal')\n",
        "ucb_1.plot(True, True, label='UCB-1')\n",
        "plt.legend()"
      ],
      "execution_count": 9,
      "outputs": [
        {
          "output_type": "execute_result",
          "data": {
            "text/plain": [
              "<matplotlib.legend.Legend at 0x7fa2ce25da90>"
            ]
          },
          "metadata": {
            "tags": []
          },
          "execution_count": 9
        },
        {
          "output_type": "display_data",
          "data": {
            "image/png": "[encoded data removed]",
            "text/plain": [
              "<Figure size 432x288 with 1 Axes>"
            ]
          },
          "metadata": {
            "tags": [],
            "needs_background": "light"
          }
        }
      ]
    },
    {
      "cell_type": "code",
      "metadata": {
        "colab": {
          "base_uri": "https://localhost:8080/"
        },
        "id": "XARVlH70SeNd",
        "outputId": "a57f79b2-8cff-4b1e-dae1-916beabc5392"
      },
      "source": [
        "print('UCB-Normal jugadas: ',ucb_n._plays)\n",
        "print('UCB-1 jugadas: ',ucb_1._plays)"
      ],
      "execution_count": 10,
      "outputs": [
        {
          "output_type": "stream",
          "text": [
            "UCB-Normal jugadas:  [494, 5854, 193652]\n",
            "UCB-1 jugadas:  [2883, 8807, 188310]\n"
          ],
          "name": "stdout"
        }
      ]
    }
  ]
}