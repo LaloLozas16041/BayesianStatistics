{
  "nbformat": 4,
  "nbformat_minor": 0,
  "metadata": {
    "colab": {
      "name": "Muestreo de Thompson y BayesUCB para el Bandido Multibrazo.ipynb",
      "provenance": []
    },
    "kernelspec": {
      "name": "python3",
      "display_name": "Python 3"
    },
    "language_info": {
      "name": "python"
    }
  },
  "cells": [
    {
      "cell_type": "markdown",
      "metadata": {
        "id": "scoHQXP-QgTZ"
      },
      "source": [
        "# UCB1"
      ]
    },
    {
      "cell_type": "code",
      "metadata": {
        "id": "sZAmkfWcVlu6"
      },
      "source": [
        "import numpy as np\n",
        "import matplotlib.pyplot as plt\n",
        "\n",
        "class Epsilon:\n",
        "    \"\"\"\n",
        "    Agente que soluciona el problema del el Bandido Multibrazo\n",
        "    (Multi-Armed Bandit) mediante el uso de una estrategia Epsilon\n",
        "    Greedy\n",
        "    \n",
        "    Parámetros\n",
        "    ----------\n",
        "    bandits : array of Bandit\n",
        "        Vector con los bandidos con los que se debe jugar\n",
        "    epsilon : float\n",
        "        Porcentaje de veces en las que el agente jugada de forma\n",
        "        aleatoria\n",
        "    decay : float\n",
        "        Velocidad con la que decae la probabilidad de seleccionar una\n",
        "        jugada al azar\n",
        "    initial: array of float\n",
        "        Valor inicial de la recompensa esperada para cada uno de\n",
        "        bandidos\n",
        "    Métodos\n",
        "    -------\n",
        "    run :\n",
        "        Realiza una tirada en el bandido\n",
        "    average_reward :\n",
        "        Obtención de la recompensa promedio\n",
        "    plot :\n",
        "        Representación gráfica del histórico de jugadas\n",
        "    reset :\n",
        "        Reinicia el agente\n",
        "    \"\"\"\n",
        "    \n",
        "    def __init__(self, bandits, epsilon=0.05, decay=1, initial=None):\n",
        "        self.bandits = bandits\n",
        "        self.epsilon = epsilon\n",
        "        self.decay = decay\n",
        "        self.reset(initial)\n",
        "        \n",
        "        \n",
        "    def run(self, episodes=1):\n",
        "        for i in range(episodes):\n",
        "            prob = np.random.random()\n",
        "            \n",
        "            # Selección entre la jugada aleatoria o avariciosa\n",
        "            if prob < self._epsilon:\n",
        "                bandit = np.random.choice(len(bandits))\n",
        "            else:\n",
        "                max_bandits = np.where(self._mean == np.max(self._mean))[0]\n",
        "                bandit = np.random.choice(max_bandits)\n",
        "\n",
        "            # Decaimiento del parámetro epsilon\n",
        "            self._epsilon *= self.decay\n",
        "            \n",
        "            # Obtención de una nueva recompensa\n",
        "            reward = bandits[bandit].pull()\n",
        "            \n",
        "            # Agregación de la recompensa al listado\n",
        "            self._rewards.append(reward)\n",
        "            \n",
        "            # Actualización de la media\n",
        "            self._plays[bandit] += 1\n",
        "            self._mean[bandit] = (1 - 1.0/self._plays[bandit]) * self._mean[bandit] \\\n",
        "                                 + 1.0/self._plays[bandit] * reward\n",
        "        \n",
        "        return self.average_reward()\n",
        "    \n",
        "    \n",
        "    def average_reward(self):\n",
        "        return np.mean(self._rewards)\n",
        "    \n",
        "    \n",
        "    def plot(self, log=False, reference=False, label=None):\n",
        "        cumulative_average = np.cumsum(self._rewards) / (np.arange(len(self._rewards)) + 1)\n",
        "        \n",
        "        if label is None:\n",
        "            plt.plot(range(len(self._rewards)), cumulative_average)\n",
        "        else:\n",
        "            plt.plot(range(len(self._rewards)), cumulative_average, label=label)\n",
        "            \n",
        "        if reference:\n",
        "            for reward in [b.reward for b in self.bandits]:\n",
        "                plt.plot([0, len(self._rewards)], [reward, reward],\n",
        "                         label=f'reward={reward}')\n",
        "                \n",
        "        if log:\n",
        "            plt.xscale('log')\n",
        "    \n",
        "    \n",
        "    def reset(self, initial=None):\n",
        "        self._rewards = []\n",
        "        \n",
        "        if initial is None:\n",
        "            self._epsilon = self.epsilon\n",
        "            self._plays = [0] * len(self.bandits)\n",
        "            self._mean = [0] * len(self.bandits)\n",
        "        else:\n",
        "            self._epsilon = 0\n",
        "            self._plays = [1] * len(self.bandits)\n",
        "            self._mean = initial"
      ],
      "execution_count": 1,
      "outputs": []
    },
    {
      "cell_type": "code",
      "metadata": {
        "id": "ja7c_ZBCVk4q"
      },
      "source": [
        "class Bandit:\n",
        "    \"\"\"\n",
        "    Implementación de un Bandido Multibrazo (Multi-Armed Bandit) basado\n",
        "    en una distribución binomial\n",
        "\n",
        "    Parámetros\n",
        "    ----------\n",
        "    number: integer\n",
        "        Número de recompensas que puede devolver el agente\n",
        "    probability : float\n",
        "        Probabilidad de que el objeto devuelva una recompensa\n",
        "    \n",
        "    Métodos\n",
        "    -------\n",
        "    pull :\n",
        "        Realiza una tirada en el bandido\n",
        "        \n",
        "    \"\"\"\n",
        "    def __init__(self, probability, number=1):\n",
        "        self.number = number\n",
        "        self.probability = probability\n",
        "        self.reward = self.number * self.probability\n",
        "        \n",
        "        \n",
        "    def pull(self):        \n",
        "        return np.random.binomial(self.number, self.probability) \n",
        "        \n",
        "    \n",
        "    \n"
      ],
      "execution_count": 5,
      "outputs": []
    },
    {
      "cell_type": "code",
      "metadata": {
        "id": "h8-4uwhKYo8g"
      },
      "source": [
        "class UCB(Epsilon):\n",
        "    def __init__(self, bandits):\n",
        "        self.bandits = bandits\n",
        "        \n",
        "        self.reset()\n",
        "    def run(self, episodes=1):\n",
        "        for i in range(episodes):\n",
        "            # Selección del bandido\n",
        "            bandit = self.select()\n",
        "            \n",
        "            # Obtención de una nueva recompensa\n",
        "            reward = bandits[bandit].pull()\n",
        "            \n",
        "            # Agregación de la recompensa al listado\n",
        "            self._rewards.append(reward)\n",
        "            \n",
        "            # Actualización de la media\n",
        "            self._rewards2[bandit] += reward ** 2\n",
        "            self._plays[bandit] += 1\n",
        "            self._mean[bandit] = (1 - 1.0/self._plays[bandit]) * self._mean[bandit] \\\n",
        "                                 + 1.0/self._plays[bandit] * reward\n",
        "        \n",
        "        return self.average_reward()\n",
        "    def select(self):\n",
        "        num_bandits = len(self.bandits)\n",
        "        total = len(self._rewards)\n",
        "        \n",
        "        if total == 0:\n",
        "            bandit = np.random.choice(len(bandits))\n",
        "        else:\n",
        "            ucb = [0] * num_bandits\n",
        "            \n",
        "            for i in range(num_bandits):\n",
        "                if self._plays[i] == 0:\n",
        "                    ucb[i] = self._mean[i] + np.sqrt(2 * np.log(total))\n",
        "                else:\n",
        "                    ucb[i] = self._mean[i] + np.sqrt(2 * np.log(total) / self._plays[i])\n",
        "        \n",
        "            max_bandits = np.where(ucb == np.max(ucb))[0]\n",
        "            bandit = np.random.choice(max_bandits)\n",
        "            \n",
        "        return bandit\n",
        "    \n",
        "    \n",
        "    def reset(self, initial=None):\n",
        "        self._rewards = []\n",
        "        self._plays = [0] * len(self.bandits)\n",
        "        self._mean = [0] * len(self.bandits)\n",
        "        self._rewards2 = [0] * len(self.bandits)"
      ],
      "execution_count": 7,
      "outputs": []
    },
    {
      "cell_type": "markdown",
      "metadata": {
        "id": "ZuwjqMgT8ALS"
      },
      "source": [
        "# Thompson Sampling"
      ]
    },
    {
      "cell_type": "code",
      "metadata": {
        "id": "YyJ1JFa47_CU"
      },
      "source": [
        "from scipy.stats import beta\n",
        "\n",
        "class ThompsonSampling(Epsilon):\n",
        "    def __init__(self, bandits, N=1):\n",
        "        self.bandits = bandits\n",
        "        self.N = N\n",
        "            \n",
        "        self.reset()\n",
        "        \n",
        "    def run(self, episodes=1):\n",
        "        for i in range(episodes):\n",
        "            # Selección del bandido\n",
        "            bandit = self.select()\n",
        "            \n",
        "            # Obtención de una nueva recompensa\n",
        "            reward = bandits[bandit].pull()\n",
        "            \n",
        "            # Agregación de la recompensa al listado\n",
        "            self._rewards.append(reward)\n",
        "            \n",
        "            # Actualización de la media\n",
        "            self._plays[bandit] += 1\n",
        "            self._mean[bandit] = (1 - 1.0/self._plays[bandit]) * self._mean[bandit] \\\n",
        "                                 + 1.0/self._plays[bandit] * reward\n",
        "            \n",
        "            # Guardado de valores intermedos\n",
        "            self._alpha[bandit] += reward\n",
        "            self._beta[bandit] += (self.N - reward)\n",
        "            \n",
        "            \n",
        "    def select(self):\n",
        "        num_bandits = len(self.bandits)\n",
        "        bayes = [0] * num_bandits\n",
        "        \n",
        "        for i in range(num_bandits):\n",
        "            bayes[i] = beta.rvs(self._alpha[i], self._beta[i])\n",
        "            \n",
        "        max_bandits = np.where(bayes == np.max(bayes))[0]\n",
        "        bandit = np.random.choice(max_bandits)\n",
        "        \n",
        "        return bandit\n",
        "    \n",
        "    \n",
        "    def reset(self, initial=None):\n",
        "        self._rewards = []\n",
        "        self._plays = [0] * len(self.bandits)\n",
        "        self._mean = [0] * len(self.bandits)\n",
        "        \n",
        "        self._alpha = [1] * len(self.bandits)\n",
        "        self._beta = [1] * len(self.bandits)"
      ],
      "execution_count": 2,
      "outputs": []
    },
    {
      "cell_type": "markdown",
      "metadata": {
        "id": "zWxjLJfO8GDh"
      },
      "source": [
        "# BayesUCB"
      ]
    },
    {
      "cell_type": "code",
      "metadata": {
        "id": "kr240k368IMR"
      },
      "source": [
        "class BayesUCB(ThompsonSampling):\n",
        "    def __init__(self, bandits, N=1, gamma=3):\n",
        "        self.bandits = bandits\n",
        "        self.N = N\n",
        "        self.gamma = gamma\n",
        "        \n",
        "        self.reset()\n",
        "\n",
        "    \n",
        "    def select(self):\n",
        "        num_bandits = len(self.bandits)\n",
        "        bayes = [0] * num_bandits\n",
        "        \n",
        "        for i in range(num_bandits):\n",
        "            bayes[i] = self._mean[i] + beta.std(self._alpha[i], self._beta[i]) * self.gamma\n",
        "            \n",
        "        max_bandits = np.where(bayes == np.max(bayes))[0]\n",
        "        bandit = np.random.choice(max_bandits)\n",
        "            \n",
        "        return bandit"
      ],
      "execution_count": 3,
      "outputs": []
    },
    {
      "cell_type": "code",
      "metadata": {
        "colab": {
          "base_uri": "https://localhost:8080/",
          "height": 286
        },
        "id": "gpQnh9-F8O8q",
        "outputId": "1710872f-1c2b-4163-bb12-8fdf798d5aa1"
      },
      "source": [
        "np.random.seed(0)\n",
        "\n",
        "bandits = [Bandit(0.02), Bandit(0.06), Bandit(0.10)]\n",
        "\n",
        "thompson = ThompsonSampling(bandits)\n",
        "ucb_n = BayesUCB(bandits)\n",
        "ucb_1 = UCB(bandits)\n",
        "\n",
        "thompson.run(200000)\n",
        "ucb_n.run(200000)\n",
        "ucb_1.run(200000)\n",
        "\n",
        "thompson.plot(True, label='Thompson Sampling')\n",
        "ucb_n.plot(True, label='Bayes-UCB')\n",
        "ucb_1.plot(True, True, label='UCB1')\n",
        "plt.legend();"
      ],
      "execution_count": 8,
      "outputs": [
        {
          "output_type": "execute_result",
          "data": {
            "text/plain": [
              "<matplotlib.legend.Legend at 0x7ff5a6d9b490>"
            ]
          },
          "metadata": {
            "tags": []
          },
          "execution_count": 8
        },
        {
          "output_type": "display_data",
          "data": {
            "image/png": "[encoded data removed]",
            "text/plain": [
              "<Figure size 432x288 with 1 Axes>"
            ]
          },
          "metadata": {
            "tags": [],
            "needs_background": "light"
          }
        }
      ]
    },
    {
      "cell_type": "markdown",
      "metadata": {
        "id": "ugbXjpKi9mOh"
      },
      "source": [
        "# Comparación de todos"
      ]
    },
    {
      "cell_type": "markdown",
      "metadata": {
        "id": "CihI_nr68fHP"
      },
      "source": [
        "# UCB2"
      ]
    },
    {
      "cell_type": "code",
      "metadata": {
        "id": "ojWE8dYePg4b"
      },
      "source": [
        "import sys\n",
        "\n",
        "class UCB2(Epsilon):\n",
        "    def __init__(self, bandits, alpha=0.1):\n",
        "        self.bandits = bandits\n",
        "        self.alpha = alpha\n",
        "        \n",
        "        self.reset()\n",
        "    \n",
        "    def run(self, episodes=1):\n",
        "        for i in range(episodes):\n",
        "            # Selección del bandido\n",
        "            bandit = self.select()\n",
        "            \n",
        "            # Obtención de una nueva recompensa\n",
        "            reward = bandits[bandit].pull()\n",
        "            \n",
        "            # Agregación de la recompensa al listado\n",
        "            self._rewards.append(reward)\n",
        "            \n",
        "            # Actualización de la media\n",
        "            self._rewards2[bandit] += reward ** 2\n",
        "            self._plays[bandit] += 1\n",
        "            self._mean[bandit] = (1 - 1.0/self._plays[bandit]) * self._mean[bandit] \\\n",
        "                                 + 1.0/self._plays[bandit] * reward\n",
        "    def select(self):\n",
        "        num_bandits = len(self.bandits)\n",
        "        total = len(self._rewards)\n",
        "        \n",
        "        if total == 0:\n",
        "            bandit = np.random.choice(len(bandits))\n",
        "        else:\n",
        "            ucb = [0] * num_bandits\n",
        "            \n",
        "            for i in range(num_bandits):\n",
        "                try:\n",
        "                    tau = int(np.ceil((1 + self.alpha) ** self._plays[i]))\n",
        "                    if np.log(np.e * total / tau) > 0:\n",
        "                        bonus = np.sqrt((1. + self.alpha) * np.log(np.e * total / tau) / (2 * tau))\n",
        "                    else:\n",
        "                        bonus = 0\n",
        "                except:\n",
        "                    bonus = 0\n",
        "                    \n",
        "                if np.isnan(bonus):\n",
        "                    ucb[i] = self._mean[i] \n",
        "                else:\n",
        "                    ucb[i] = self._mean[i] + bonus\n",
        "        \n",
        "            max_bandits = np.where(ucb == np.max(ucb))[0]\n",
        "            bandit = np.random.choice(max_bandits)\n",
        "            \n",
        "        return bandit\n",
        "    \n",
        "    \n",
        "    def reset(self, initial=None):\n",
        "        self._rewards = []\n",
        "        self._plays = [0] * len(self.bandits)\n",
        "        self._mean = [0] * len(self.bandits)\n",
        "        self._rewards2 = [0] * len(self.bandits)"
      ],
      "execution_count": 9,
      "outputs": []
    },
    {
      "cell_type": "markdown",
      "metadata": {
        "id": "iV7ezu8-8guz"
      },
      "source": [
        "# UCB1-Tuned"
      ]
    },
    {
      "cell_type": "code",
      "metadata": {
        "id": "jKCaEgbtYW4E"
      },
      "source": [
        "class UCB1Tuned(Epsilon):\n",
        "    def __init__(self, bandits):\n",
        "        self.bandits = bandits\n",
        "        \n",
        "        self.reset()\n",
        "    \n",
        "    \n",
        "    def run(self, episodes=1):\n",
        "        for i in range(episodes):\n",
        "            # Selección del bandido\n",
        "            bandit = self.select()\n",
        "            \n",
        "            # Obtención de una nueva recompensa\n",
        "            reward = bandits[bandit].pull()\n",
        "            \n",
        "            # Agregación de la recompensa al listado\n",
        "            self._rewards.append(reward)\n",
        "            \n",
        "            # Actualización de la media\n",
        "            self._plays[bandit] += 1\n",
        "            self._mean[bandit] = (1 - 1.0/self._plays[bandit]) * self._mean[bandit] \\\n",
        "                                 + 1.0/self._plays[bandit] * reward\n",
        "            \n",
        "            # Actualización de la media de los cuadrados\n",
        "            self._mean2[bandit] = (1 - 1.0/self._plays[bandit]) * self._mean2[bandit] \\\n",
        "                                 + 1.0/self._plays[bandit] * reward ** 2\n",
        "        \n",
        "        return self.average_reward()\n",
        "    \n",
        "    \n",
        "    def select(self):\n",
        "        num_bandits = len(self.bandits)\n",
        "        total = len(self._rewards)\n",
        "        \n",
        "        if total == 0:\n",
        "            bandit = np.random.choice(len(bandits))\n",
        "        else:\n",
        "            ucb = [0] * num_bandits\n",
        "            \n",
        "            for i in range(num_bandits):\n",
        "                if self._plays[i] == 0:\n",
        "                    v = self._mean2[i] - self._mean[i] ** 2 + np.sqrt(2 * np.log(total))\n",
        "                else:\n",
        "                    v = self._mean2[i] - self._mean[i] ** 2 + np.sqrt(2 * np.log(total) / self._plays[i])\n",
        "        \n",
        "                ucb[i] = self._mean[i] + np.sqrt(np.log(total) * np.min([1/4, v]))\n",
        "            \n",
        "            max_bandits = np.where(ucb == np.max(ucb))[0]\n",
        "            bandit = np.random.choice(max_bandits)\n",
        "            \n",
        "        return bandit\n",
        "    \n",
        "    \n",
        "    def reset(self, initial=None):\n",
        "        self._rewards = []\n",
        "        self._plays = [0] * len(self.bandits)\n",
        "        self._mean = [0] * len(self.bandits)\n",
        "        self._mean2 = [0] * len(self.bandits)"
      ],
      "execution_count": 10,
      "outputs": []
    },
    {
      "cell_type": "code",
      "metadata": {
        "colab": {
          "base_uri": "https://localhost:8080/"
        },
        "id": "nSxUlJoPYc2i",
        "outputId": "15090848-7787-49f8-d4cb-4123a5009ba3"
      },
      "source": [
        "np.random.seed(0)\n",
        "\n",
        "bandits = [Bandit(0.02), Bandit(0.06), Bandit(0.10)]\n",
        "\n",
        "ucb_tuned = UCB1Tuned(bandits)\n",
        "ucb_1 = UCB(bandits)\n",
        "ucb_a = UCB2(bandits, 0.5)\n",
        "ucb_b = UCB2(bandits, 0.3)\n",
        "ucb_c = UCB2(bandits, 0.1)\n",
        "\n",
        "ucb_a.run(200000)\n",
        "ucb_b.run(200000)\n",
        "ucb_c.run(200000)\n",
        "ucb_tuned.run(200000)\n",
        "ucb_1.run(200000)\n",
        "\n"
      ],
      "execution_count": 12,
      "outputs": [
        {
          "output_type": "execute_result",
          "data": {
            "text/plain": [
              "0.097"
            ]
          },
          "metadata": {
            "tags": []
          },
          "execution_count": 12
        }
      ]
    },
    {
      "cell_type": "code",
      "metadata": {
        "colab": {
          "base_uri": "https://localhost:8080/",
          "height": 286
        },
        "id": "xzx-YfjF9dTk",
        "outputId": "0823813f-5228-4cf4-b806-cea01322e70b"
      },
      "source": [
        "thompson.plot(True, label='Thompson Sampling')\n",
        "ucb_n.plot(True, label='Bayes-UCB')\n",
        "ucb_a.plot(True, label='UCB2 0.5')\n",
        "ucb_tuned.plot(True, label='UCB1-Tuned')\n",
        "ucb_1.plot(True, True, label='UCB1')\n",
        "plt.legend()\n",
        "plt.legend()"
      ],
      "execution_count": 13,
      "outputs": [
        {
          "output_type": "execute_result",
          "data": {
            "text/plain": [
              "<matplotlib.legend.Legend at 0x7ff5a656d8d0>"
            ]
          },
          "metadata": {
            "tags": []
          },
          "execution_count": 13
        },
        {
          "output_type": "display_data",
          "data": {
            "image/png": "[encoded data removed]",
            "text/plain": [
              "<Figure size 432x288 with 1 Axes>"
            ]
          },
          "metadata": {
            "tags": [],
            "needs_background": "light"
          }
        }
      ]
    },
    {
      "cell_type": "code",
      "metadata": {
        "colab": {
          "base_uri": "https://localhost:8080/"
        },
        "id": "XARVlH70SeNd",
        "outputId": "5cce1d19-4e8a-48ad-aef7-0e50119aa513"
      },
      "source": [
        "print('UCB1 jugadas: ',ucb_1._plays)\n",
        "print('UCB1-Tuned jugadas: ',ucb_tuned._plays)\n",
        "print('UCB2 alpha=0.5 jugadas: ',ucb_a._plays)\n",
        "print('Bayes-UCB: ',ucb_n._plays)\n",
        "print('Thompson Sampling: ',thompson._plays)"
      ],
      "execution_count": 15,
      "outputs": [
        {
          "output_type": "stream",
          "text": [
            "UCB1 jugadas:  [3098, 8545, 188357]\n",
            "UCB1-Tuned jugadas:  [2676, 8638, 188686]\n",
            "UCB2 alpha=0.5 jugadas:  [16, 24, 199960]\n",
            "Bayes-UCB:  [68, 525, 199407]\n",
            "Thompson Sampling:  [117, 289, 199594]\n"
          ],
          "name": "stdout"
        }
      ]
    }
  ]
}