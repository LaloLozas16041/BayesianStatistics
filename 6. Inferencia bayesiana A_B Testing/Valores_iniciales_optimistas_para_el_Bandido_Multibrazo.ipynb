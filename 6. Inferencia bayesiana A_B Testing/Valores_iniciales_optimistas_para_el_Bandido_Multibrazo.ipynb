{
  "nbformat": 4,
  "nbformat_minor": 0,
  "metadata": {
    "colab": {
      "name": "Valores iniciales optimistas para el Bandido Multibrazo.ipynb",
      "provenance": []
    },
    "kernelspec": {
      "name": "python3",
      "display_name": "Python 3"
    },
    "language_info": {
      "name": "python"
    }
  },
  "cells": [
    {
      "cell_type": "code",
      "metadata": {
        "id": "frhRuaKx0UcL"
      },
      "source": [
        "import numpy as np\n",
        "import matplotlib.pyplot as plt\n",
        "\n",
        "class Epsilon:\n",
        "    \"\"\"\n",
        "    Agente que soluciona el problema del el Bandido Multibrazo\n",
        "    (Multi-Armed Bandit) mediante el uso de una estrategia Epsilon\n",
        "    Greedy\n",
        "    \n",
        "    Parámetros\n",
        "    ----------\n",
        "    bandits : array of Bandit\n",
        "        Vector con los bandidos con los que se debe jugar\n",
        "    epsilon : float\n",
        "        Porcentaje de veces en las que el agente jugada de forma\n",
        "        aleatoria\n",
        "    decay : float\n",
        "        Velocidad con la que decae la probabilidad de seleccionar una\n",
        "        jugada al azar\n",
        "    initial: array of float\n",
        "        Valor inicial de la recompensa esperada para cada uno de\n",
        "        bandidos\n",
        "    Métodos\n",
        "    -------\n",
        "    run :\n",
        "        Realiza una tirada en el bandido\n",
        "    average_reward :\n",
        "        Obtención de la recompensa promedio\n",
        "    plot :\n",
        "        Representación gráfica del histórico de jugadas\n",
        "    reset :\n",
        "        Reinicia el agente\n",
        "    \"\"\"\n",
        "    \n",
        "    def __init__(self, bandits, epsilon=0.05, decay=1, initial=None):\n",
        "        self.bandits = bandits\n",
        "        self.epsilon = epsilon\n",
        "        self.decay = decay\n",
        "        self.reset(initial)\n",
        "        \n",
        "        \n",
        "    def run(self, episodes=1):\n",
        "        for i in range(episodes):\n",
        "            prob = np.random.random()\n",
        "            \n",
        "            # Selección entre la jugada aleatoria o avariciosa\n",
        "            if prob < self._epsilon:\n",
        "                bandit = np.random.choice(len(bandits))\n",
        "            else:\n",
        "                max_bandits = np.where(self._mean == np.max(self._mean))[0]\n",
        "                bandit = np.random.choice(max_bandits)\n",
        "\n",
        "            # Decaimiento del parámetro epsilon\n",
        "            self._epsilon *= self.decay\n",
        "            \n",
        "            # Obtención de una nueva recompensa\n",
        "            reward = bandits[bandit].pull()\n",
        "            \n",
        "            # Agregación de la recompensa al listado\n",
        "            self._rewards.append(reward)\n",
        "            \n",
        "            # Actualización de la media\n",
        "            self._plays[bandit] += 1\n",
        "            self._mean[bandit] = (1 - 1.0/self._plays[bandit]) * self._mean[bandit] \\\n",
        "                                 + 1.0/self._plays[bandit] * reward\n",
        "        \n",
        "        return self.average_reward()\n",
        "    \n",
        "    \n",
        "    def average_reward(self):\n",
        "        return np.mean(self._rewards)\n",
        "    \n",
        "    \n",
        "    def plot(self, log=False, reference=False, label=None):\n",
        "        cumulative_average = np.cumsum(self._rewards) / (np.arange(len(self._rewards)) + 1)\n",
        "        \n",
        "        if label is None:\n",
        "            plt.plot(range(len(self._rewards)), cumulative_average)\n",
        "        else:\n",
        "            plt.plot(range(len(self._rewards)), cumulative_average, label=label)\n",
        "            \n",
        "        if reference:\n",
        "            for reward in [b.reward for b in self.bandits]:\n",
        "                plt.plot([0, len(self._rewards)], [reward, reward],\n",
        "                         label=f'reward={reward}')\n",
        "                \n",
        "        if log:\n",
        "            plt.xscale('log')\n",
        "    \n",
        "    \n",
        "    def reset(self, initial=None):\n",
        "        self._rewards = []\n",
        "        \n",
        "        if initial is None:\n",
        "            self._epsilon = self.epsilon\n",
        "            self._plays = [0] * len(self.bandits)\n",
        "            self._mean = [0] * len(self.bandits)\n",
        "        else:\n",
        "            self._epsilon = 0\n",
        "            self._plays = [1] * len(self.bandits)\n",
        "            self._mean = initial"
      ],
      "execution_count": 1,
      "outputs": []
    },
    {
      "cell_type": "code",
      "metadata": {
        "colab": {
          "base_uri": "https://localhost:8080/",
          "height": 321
        },
        "id": "sAgQPVFKKYmV",
        "outputId": "fb11a231-daa1-4122-a0bc-5718357e2c4c"
      },
      "source": [
        "class Bandit:\n",
        "    \"\"\"\n",
        "    Implementación de un Bandido Multibrazo (Multi-Armed Bandit) basado\n",
        "    en una distribución binomial\n",
        "\n",
        "    Parámetros\n",
        "    ----------\n",
        "    number: integer\n",
        "        Número de recompensas que puede devolver el agente\n",
        "    probability : float\n",
        "        Probabilidad de que el objeto devuelva una recompensa\n",
        "    \n",
        "    Métodos\n",
        "    -------\n",
        "    pull :\n",
        "        Realiza una tirada en el bandido\n",
        "        \n",
        "    \"\"\"\n",
        "    def __init__(self, probability, number=1):\n",
        "        self.number = number\n",
        "        self.probability = probability\n",
        "        self.reward = self.number * self.probability\n",
        "        \n",
        "        \n",
        "    def pull(self):        \n",
        "        return np.random.binomial(self.number, self.probability) \n",
        "        \n",
        "    \n",
        "    \n",
        "np.random.seed(0)\n",
        "\n",
        "bandits = [Bandit(0.02), Bandit(0.06), Bandit(0.10)]\n",
        "original=bandits\n",
        "epsilon = Epsilon(bandits)\n",
        "decay = Epsilon(bandits, epsilon=1, decay=0.999)\n",
        "optimistic = Epsilon(bandits, initial=[0.2, 0.2, 0.2])\n",
        "\n",
        "print(epsilon.run(20000))\n",
        "print(decay.run(20000))\n",
        "print(optimistic.run(20000))\n",
        "\n",
        "epsilon.plot(True, label='Epsilon')\n",
        "decay.plot(True, label='Decay')\n",
        "optimistic.plot(True, True, label='Optimistic')\n",
        "plt.legend();"
      ],
      "execution_count": 2,
      "outputs": [
        {
          "output_type": "stream",
          "text": [
            "0.09595\n",
            "0.09595\n",
            "0.10095\n"
          ],
          "name": "stdout"
        },
        {
          "output_type": "display_data",
          "data": {
            "image/png": "[encoded data removed]",
            "text/plain": [
              "<Figure size 432x288 with 1 Axes>"
            ]
          },
          "metadata": {
            "tags": [],
            "needs_background": "light"
          }
        }
      ]
    },
    {
      "cell_type": "code",
      "metadata": {
        "colab": {
          "base_uri": "https://localhost:8080/"
        },
        "id": "VlLjfqaHSf-l",
        "outputId": "5e63d07b-0269-4cfb-ee63-1f5300c5e25d"
      },
      "source": [
        "print('Epsilon-Greedy jugadas: ',epsilon._plays)\n",
        "print('Epsilon-Greedy-Decay jugadas: ',decay._plays)\n",
        "print('Valores Iniciales Optimistas jugadas: ',optimistic._plays)"
      ],
      "execution_count": 3,
      "outputs": [
        {
          "output_type": "stream",
          "text": [
            "Epsilon-Greedy jugadas:  [381, 355, 19264]\n",
            "Epsilon-Greedy-Decay jugadas:  [333, 352, 19315]\n",
            "Valores Iniciales Optimistas jugadas:  [90, 16, 19897]\n"
          ],
          "name": "stdout"
        }
      ]
    },
    {
      "cell_type": "code",
      "metadata": {
        "colab": {
          "base_uri": "https://localhost:8080/",
          "height": 286
        },
        "id": "UrZN0BIgKgoU",
        "outputId": "52aef396-b237-4254-f76c-0e4d505e707b"
      },
      "source": [
        "np.random.seed(0)\n",
        "optimistic2 = Epsilon(bandits, initial=[0.09, 0.09, 0.09])\n",
        "print(optimistic2.run(20000))\n",
        "optimistic2.plot(True, True, label='Optimistic')"
      ],
      "execution_count": 4,
      "outputs": [
        {
          "output_type": "stream",
          "text": [
            "0.05865\n"
          ],
          "name": "stdout"
        },
        {
          "output_type": "display_data",
          "data": {
            "image/png": "[encoded data removed]",
            "text/plain": [
              "<Figure size 432x288 with 1 Axes>"
            ]
          },
          "metadata": {
            "tags": [],
            "needs_background": "light"
          }
        }
      ]
    },
    {
      "cell_type": "code",
      "metadata": {
        "colab": {
          "base_uri": "https://localhost:8080/"
        },
        "id": "ld3j64UBS3LZ",
        "outputId": "e76a7c38-e110-415d-8daa-4013d5577277"
      },
      "source": [
        "print('Valores Iniciales Optimistas jugadas: ',optimistic2._plays)"
      ],
      "execution_count": 5,
      "outputs": [
        {
          "output_type": "stream",
          "text": [
            "Valores Iniciales Optimistas jugadas:  [6, 19991, 6]\n"
          ],
          "name": "stdout"
        }
      ]
    }
  ]
}