{
  "nbformat": 4,
  "nbformat_minor": 0,
  "metadata": {
    "colab": {
      "name": "Test A/B para el Bandido Multibrazo.ipynb",
      "provenance": []
    },
    "kernelspec": {
      "name": "python3",
      "display_name": "Python 3"
    },
    "language_info": {
      "name": "python"
    }
  },
  "cells": [
    {
      "cell_type": "code",
      "metadata": {
        "colab": {
          "base_uri": "https://localhost:8080/"
        },
        "id": "frhRuaKx0UcL",
        "outputId": "9191572f-5a7c-497f-8bed-22a943c08045"
      },
      "source": [
        "import numpy as np\n",
        "from itertools import compress\n",
        "from statsmodels.stats.proportion import proportions_ztest \n",
        "\n",
        "np.random.seed(0)\n",
        "\n",
        "class Bandit:\n",
        "    def __init__(self, mean):\n",
        "        self.mean = mean\n",
        "        self.rewards = []\n",
        "    \n",
        "    def pull(self):\n",
        "        reward = np.random.binomial(1, self.mean) \n",
        "        self.rewards.append(reward)\n",
        "        return reward\n",
        "\n",
        "original = [Bandit(0.02), Bandit(0.04), Bandit(0.06), Bandit(0.08), Bandit(0.10)]\n",
        "\n",
        "bandits = original\n",
        "simulations = 500\n",
        "\n",
        "num_bandits = len(bandits)\n",
        "num_iter = 0\n",
        "\n",
        "while num_bandits > 1 and num_iter < 10:\n",
        "    num_iter = num_iter + 1\n",
        "    \n",
        "    for sim in range(simulations):\n",
        "        for bandit in range(num_bandits):\n",
        "            bandits[bandit].pull()\n",
        "\n",
        "    n_reward = [np.sum(bandit.rewards) for bandit in bandits]\n",
        "    max_reward = max(n_reward)\n",
        "    nobs = len(bandits[0].rewards)\n",
        "\n",
        "    p_value = list(map(lambda a : proportions_ztest((a, max_reward), (nobs, nobs))[1], n_reward))\n",
        "    bandits = list(compress(bandits, np.array(p_value) > 0.05))\n",
        "    num_bandits = len(bandits)\n",
        "    \n",
        "evaluations = len(bandits[0].rewards)\n",
        "total_evaluations = np.sum([len(bandit.rewards) for bandit in original])\n",
        "total_reward = np.sum([np.sum(bandit.rewards) for bandit in original])\n",
        "avg_reward = total_reward / total_evaluations"
      ],
      "execution_count": 2,
      "outputs": [
        {
          "output_type": "stream",
          "text": [
            "/usr/local/lib/python3.7/dist-packages/statsmodels/tools/_testing.py:19: FutureWarning: pandas.util.testing is deprecated. Use the functions in the public API at pandas.testing instead.\n",
            "  import pandas.util.testing as tm\n"
          ],
          "name": "stderr"
        }
      ]
    },
    {
      "cell_type": "code",
      "metadata": {
        "colab": {
          "base_uri": "https://localhost:8080/"
        },
        "id": "3HwdvdQq0ea4",
        "outputId": "fbf7166c-f404-4403-a184-ffe7920f2b30"
      },
      "source": [
        "print('Numero de evaluaciones del bandido seleccionado: ',evaluations)\n",
        "print('Numero de evaluaciones totales: ',total_evaluations)\n",
        "print('Numero de evaluaciones sub-óptimas: ',total_evaluations-evaluations)\n",
        "print('Numero de recompensas: ',total_reward)\n",
        "print('Porcentaje de recompensas: ',\"{:.2%}\". format(avg_reward))\n",
        "print('Porcentaje de recompensas del bandido óptimo: ',\"{:.2%}\". format(0.10))"
      ],
      "execution_count": 3,
      "outputs": [
        {
          "output_type": "stream",
          "text": [
            "Numero de evaluaciones del bandido seleccionado:  3500\n",
            "Numero de evaluaciones totales:  8500\n",
            "Numero de evaluaciones sub-óptimas:  5000\n",
            "Numero de recompensas:  692\n",
            "Porcentaje de recompensas:  8.14%\n",
            "Porcentaje de recompensas del bandido óptimo:  10.00%\n"
          ],
          "name": "stdout"
        }
      ]
    }
  ]
}