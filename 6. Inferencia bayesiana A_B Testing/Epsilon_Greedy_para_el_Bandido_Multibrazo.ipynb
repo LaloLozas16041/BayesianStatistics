{
  "nbformat": 4,
  "nbformat_minor": 0,
  "metadata": {
    "colab": {
      "name": "Epsilon-Greedy para el Bandido Multibrazo.ipynb",
      "provenance": []
    },
    "kernelspec": {
      "name": "python3",
      "display_name": "Python 3"
    },
    "language_info": {
      "name": "python"
    }
  },
  "cells": [
    {
      "cell_type": "code",
      "metadata": {
        "id": "frhRuaKx0UcL"
      },
      "source": [
        "import numpy as np\n",
        "\n",
        "class Bandit:\n",
        "    \"\"\"\n",
        "    Implementación de un Bandido Multibrazo (Multi-Armed Bandit) basado\n",
        "    en una distribución binomial\n",
        "\n",
        "    Parameters\n",
        "    ----------\n",
        "    probability : float\n",
        "        Probabilidad de que el objeto devuelva una recompensa\n",
        "    \n",
        "    Attributes\n",
        "    ----------\n",
        "    rewards : array\n",
        "        Históricos de recompensas generadas por el bandido\n",
        "    mean : float\n",
        "        Recompensa media histórica del bandido\n",
        "    plays : integer\n",
        "        Cantidad de veces que ha jugado con el bandido\n",
        "\n",
        "    Methods\n",
        "    -------\n",
        "    pull :\n",
        "        Realiza una tirada en el bandido\n",
        "        \n",
        "    \"\"\"\n",
        "    def __init__(self, probability):\n",
        "        self.probability = probability\n",
        "        self.rewards = []\n",
        "        self.mean = 0\n",
        "        self.plays = 0\n",
        "        \n",
        "        \n",
        "    def pull(self):\n",
        "        # Obtención de una nueva recompensa\n",
        "        reward = np.random.binomial(1, self.probability)\n",
        "        \n",
        "        # Agregación de la recompensa al listado\n",
        "        self.rewards.append(reward)\n",
        "        \n",
        "        # Actualización de la media (es más rápido que usar la función media de la recompensa)\n",
        "        self.plays += 1\n",
        "        self.mean = (1 - 1.0/self.plays) * self.mean + 1.0/self.plays * reward\n",
        "        \n",
        "        return reward"
      ],
      "execution_count": 2,
      "outputs": []
    },
    {
      "cell_type": "code",
      "metadata": {
        "id": "GhO9xiXuiguF"
      },
      "source": [
        "np.random.seed(0)\n",
        "    \n",
        "bandits = [Bandit(0.02), Bandit(0.04), Bandit(0.06), Bandit(0.08), Bandit(0.10)]\n",
        "evaluations = 8500\n",
        "eps = 0.05\n",
        "\n",
        "rewards = [] \n",
        "\n",
        "for i in range(evaluations):\n",
        "    p = np.random.random()\n",
        "    \n",
        "    if p < eps:\n",
        "        j = np.random.choice(len(bandits))\n",
        "    else:\n",
        "        means = [b.mean for b in bandits]\n",
        "        max_bandits = np.where(means == np.max(means))[0]\n",
        "        j = np.random.choice(max_bandits)\n",
        "        \n",
        "    rewards.append(bandits[j].pull())\n",
        "    \n",
        "total_reward = np.sum([np.sum(bandit.rewards) for bandit in bandits])\n",
        "avg_reward = total_reward / evaluations"
      ],
      "execution_count": 3,
      "outputs": []
    },
    {
      "cell_type": "code",
      "metadata": {
        "colab": {
          "base_uri": "https://localhost:8080/"
        },
        "id": "3HwdvdQq0ea4",
        "outputId": "dacf8df6-814b-46f8-9afe-e1311d1e7ae5"
      },
      "source": [
        "print('Numero de evaluaciones del bandido seleccionado: ',evaluations)\n",
        "print('Numero de recompensas: ',total_reward)\n",
        "print('Porcentaje de recompensas: ',\"{:.2%}\". format(avg_reward))\n",
        "print('Porcentaje de recompensas del bandido óptimo: ',\"{:.2%}\". format(0.10))"
      ],
      "execution_count": 4,
      "outputs": [
        {
          "output_type": "stream",
          "text": [
            "Numero de evaluaciones del bandido seleccionado:  8500\n",
            "Numero de recompensas:  817\n",
            "Porcentaje de recompensas:  9.61%\n",
            "Porcentaje de recompensas del bandido óptimo:  10.00%\n"
          ],
          "name": "stdout"
        }
      ]
    },
    {
      "cell_type": "code",
      "metadata": {
        "colab": {
          "base_uri": "https://localhost:8080/",
          "height": 265
        },
        "id": "VB8iwygsjUt2",
        "outputId": "ec586c21-e8ea-4dcb-c0da-baad554d3564"
      },
      "source": [
        "import matplotlib.pyplot as plt\n",
        "\n",
        "cumulative_average = np.cumsum(rewards) / (np.arange(len(rewards)) + 1)\n",
        "plt.axhline(y=0.1, color='r', linestyle='-')\n",
        "plt.plot(range(len(rewards)), cumulative_average);"
      ],
      "execution_count": 5,
      "outputs": [
        {
          "output_type": "display_data",
          "data": {
            "image/png": "[encoded data removed]",
            "text/plain": [
              "<Figure size 432x288 with 1 Axes>"
            ]
          },
          "metadata": {
            "tags": [],
            "needs_background": "light"
          }
        }
      ]
    },
    {
      "cell_type": "markdown",
      "metadata": {
        "id": "07i4RVL5n885"
      },
      "source": [
        "# Otro ejemplo:"
      ]
    },
    {
      "cell_type": "code",
      "metadata": {
        "id": "_lCjrSlwnc5R"
      },
      "source": [
        "np.random.seed(0)\n",
        "    \n",
        "bandits = [Bandit(0.2), Bandit(0.5), Bandit(0.75)]\n",
        "evaluations = 10000\n",
        "eps = 0.1\n",
        "\n",
        "rewards = [] \n",
        "\n",
        "for i in range(evaluations):\n",
        "    p = np.random.random()\n",
        "    \n",
        "    if p < eps:\n",
        "        j = np.random.choice(len(bandits))\n",
        "    else:\n",
        "        means = [b.mean for b in bandits]\n",
        "        max_bandits = np.where(means == np.max(means))[0]\n",
        "        j = np.random.choice(max_bandits)\n",
        "        \n",
        "    rewards.append(bandits[j].pull())\n",
        "    \n",
        "total_reward = np.sum([np.sum(bandit.rewards) for bandit in bandits])\n",
        "avg_reward = total_reward / evaluations"
      ],
      "execution_count": 6,
      "outputs": []
    },
    {
      "cell_type": "code",
      "metadata": {
        "colab": {
          "base_uri": "https://localhost:8080/"
        },
        "id": "STg8vv7XnrrO",
        "outputId": "3c0ec637-584b-48dc-a9df-8e11ed3fb925"
      },
      "source": [
        "print('Numero de evaluaciones del bandido seleccionado: ',evaluations)\n",
        "print('Numero de recompensas: ',total_reward)\n",
        "print('Porcentaje de recompensas: ',\"{:.2%}\". format(avg_reward))\n",
        "print('Porcentaje de recompensas del bandido óptimo: ',\"{:.2%}\". format(0.75))"
      ],
      "execution_count": 8,
      "outputs": [
        {
          "output_type": "stream",
          "text": [
            "Numero de evaluaciones del bandido seleccionado:  10000\n",
            "Numero de recompensas:  7262\n",
            "Porcentaje de recompensas:  72.62%\n",
            "Porcentaje de recompensas del bandido óptimo:  75.00%\n"
          ],
          "name": "stdout"
        }
      ]
    },
    {
      "cell_type": "code",
      "metadata": {
        "colab": {
          "base_uri": "https://localhost:8080/",
          "height": 265
        },
        "id": "wEM5eF58nrl4",
        "outputId": "31616957-86e6-413e-c39a-118060e080ce"
      },
      "source": [
        "import matplotlib.pyplot as plt\n",
        "\n",
        "cumulative_average = np.cumsum(rewards) / (np.arange(len(rewards)) + 1)\n",
        "plt.axhline(y=0.75, color='r', linestyle='-')\n",
        "plt.plot(range(len(rewards)), cumulative_average);"
      ],
      "execution_count": 10,
      "outputs": [
        {
          "output_type": "display_data",
          "data": {
            "image/png": "[encoded data removed]",
            "text/plain": [
              "<Figure size 432x288 with 1 Axes>"
            ]
          },
          "metadata": {
            "tags": [],
            "needs_background": "light"
          }
        }
      ]
    }
  ]
}