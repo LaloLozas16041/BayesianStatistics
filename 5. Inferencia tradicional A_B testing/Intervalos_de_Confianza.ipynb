{
  "nbformat": 4,
  "nbformat_minor": 0,
  "metadata": {
    "colab": {
      "name": "Intervalos de Confianza.ipynb",
      "provenance": []
    },
    "kernelspec": {
      "name": "python3",
      "display_name": "Python 3"
    },
    "language_info": {
      "name": "python"
    }
  },
  "cells": [
    {
      "cell_type": "code",
      "metadata": {
        "id": "BRj_L6jHujQy"
      },
      "source": [
        "import numpy as np\n",
        "from scipy.stats import norm, t"
      ],
      "execution_count": 1,
      "outputs": []
    },
    {
      "cell_type": "code",
      "metadata": {
        "id": "7GKNajmbusow"
      },
      "source": [
        "np.random.seed(1)"
      ],
      "execution_count": 2,
      "outputs": []
    },
    {
      "cell_type": "code",
      "metadata": {
        "id": "nJybOA-auvQi"
      },
      "source": [
        "N=1000\n",
        "mu=5\n",
        "sigma=2\n",
        "X=np.random.randn(N)*sigma+mu"
      ],
      "execution_count": 3,
      "outputs": []
    },
    {
      "cell_type": "code",
      "metadata": {
        "colab": {
          "base_uri": "https://localhost:8080/"
        },
        "id": "VDXatDTBu5KL",
        "outputId": "b63fd660-8145-4023-fab7-b99f516ab122"
      },
      "source": [
        "# Intervalo de confianza Z\n",
        "mu_hat=np.mean(X)\n",
        "sigma_hat=np.std(X,ddof=1)\n",
        "z_left=norm.ppf(0.025)\n",
        "z_right=norm.ppf(0.975)\n",
        "lower=mu_hat + z_left*sigma_hat/np.sqrt(N)\n",
        "upper=mu_hat + z_right*sigma_hat/np.sqrt(N)\n",
        "print(mu_hat,lower,upper)"
      ],
      "execution_count": 10,
      "outputs": [
        {
          "output_type": "stream",
          "text": [
            "5.077624952319204 4.955959806754385 5.199290097884023\n"
          ],
          "name": "stdout"
        }
      ]
    },
    {
      "cell_type": "code",
      "metadata": {
        "colab": {
          "base_uri": "https://localhost:8080/"
        },
        "id": "vRGNqWnKviiJ",
        "outputId": "d0552c1b-396d-4741-e5cf-9f3e0f05b016"
      },
      "source": [
        "# Intervalo de confianza t\n",
        "mu_hat=np.mean(X)\n",
        "sigma_hat=np.std(X,ddof=1)\n",
        "t_left=t.ppf(0.025,df=N-1)\n",
        "t_right=t.ppf(0.975,df=N-1)\n",
        "lower=mu_hat + t_left*sigma_hat/np.sqrt(N)\n",
        "upper=mu_hat + t_right*sigma_hat/np.sqrt(N)\n",
        "print(mu_hat,lower,upper)"
      ],
      "execution_count": 14,
      "outputs": [
        {
          "output_type": "stream",
          "text": [
            "5.077624952319204 4.9558122244324165 5.199437680205992\n"
          ],
          "name": "stdout"
        }
      ]
    },
    {
      "cell_type": "markdown",
      "metadata": {
        "id": "oGFlS0U7wlQW"
      },
      "source": [
        "Están muy cerca, porque hemos recogido bastantes datos (100)."
      ]
    },
    {
      "cell_type": "markdown",
      "metadata": {
        "id": "u7Sh_oV_w5iE"
      },
      "source": [
        "# Interpretación del intervalo de confianza: \n",
        "Si repetimos el experimento muchas veces, el IC al 95% debería contener al verdadero valor del parámetro el 95 de las veces.\n"
      ]
    },
    {
      "cell_type": "code",
      "metadata": {
        "id": "P_TB3-QDwpVs"
      },
      "source": [
        "def experiment():\n",
        "  X=np.random.randn(N)*sigma+mu\n",
        "  mu_hat=np.mean(X)\n",
        "  sigma_hat=np.std(X,ddof=1)\n",
        "  t_left=t.ppf(0.025,df=N-1)\n",
        "  t_right=t.ppf(0.975,df=N-1)\n",
        "  lower=mu_hat + t_left*sigma_hat/np.sqrt(N)\n",
        "  upper=mu_hat + t_right*sigma_hat/np.sqrt(N)\n",
        "  return mu>lower and mu<upper"
      ],
      "execution_count": 18,
      "outputs": []
    },
    {
      "cell_type": "code",
      "metadata": {
        "id": "DaQKGB-WxTgk"
      },
      "source": [
        "def multi_experiment(M):\n",
        "  results=[experiment() for _ in range(M)]\n",
        "  return np.mean(results)"
      ],
      "execution_count": 19,
      "outputs": []
    },
    {
      "cell_type": "code",
      "metadata": {
        "colab": {
          "base_uri": "https://localhost:8080/"
        },
        "id": "dPfCxY78xTbF",
        "outputId": "43be3085-e7a5-43b9-c5af-7d5c8fdfa012"
      },
      "source": [
        "multi_experiment(10000)"
      ],
      "execution_count": 20,
      "outputs": [
        {
          "output_type": "execute_result",
          "data": {
            "text/plain": [
              "0.9506"
            ]
          },
          "metadata": {
            "tags": []
          },
          "execution_count": 20
        }
      ]
    }
  ]
}