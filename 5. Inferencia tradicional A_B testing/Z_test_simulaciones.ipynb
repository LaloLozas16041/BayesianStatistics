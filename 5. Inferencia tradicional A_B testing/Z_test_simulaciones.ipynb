{
  "nbformat": 4,
  "nbformat_minor": 0,
  "metadata": {
    "colab": {
      "name": "Z-test-simulaciones",
      "provenance": []
    },
    "kernelspec": {
      "name": "python3",
      "display_name": "Python 3"
    },
    "language_info": {
      "name": "python"
    }
  },
  "cells": [
    {
      "cell_type": "code",
      "metadata": {
        "colab": {
          "base_uri": "https://localhost:8080/"
        },
        "id": "74RSKfp625W8",
        "outputId": "f303e541-1273-4748-b422-27352dd54c4e"
      },
      "source": [
        "import numpy as np\n",
        "from scipy.stats import norm\n",
        "from statsmodels.stats.weightstats import ztest"
      ],
      "execution_count": 1,
      "outputs": [
        {
          "output_type": "stream",
          "text": [
            "/usr/local/lib/python3.7/dist-packages/statsmodels/tools/_testing.py:19: FutureWarning: pandas.util.testing is deprecated. Use the functions in the public API at pandas.testing instead.\n",
            "  import pandas.util.testing as tm\n"
          ],
          "name": "stderr"
        }
      ]
    },
    {
      "cell_type": "code",
      "metadata": {
        "id": "Ntl9Hus84YoJ"
      },
      "source": [
        "np.random.seed(0)"
      ],
      "execution_count": 2,
      "outputs": []
    },
    {
      "cell_type": "code",
      "metadata": {
        "id": "DpZj9Cvo4bgz"
      },
      "source": [
        "# Información muestral\n",
        "N=100\n",
        "mu=0.2\n",
        "sigma=1\n",
        "x=np.random.randn(N)*sigma + mu"
      ],
      "execution_count": 3,
      "outputs": []
    },
    {
      "cell_type": "markdown",
      "metadata": {
        "id": "490y6yxW8Uew"
      },
      "source": [
        "# Una muestra\n"
      ]
    },
    {
      "cell_type": "markdown",
      "metadata": {
        "id": "9Uxei1bl62j4"
      },
      "source": [
        "### Prueba Bilateral"
      ]
    },
    {
      "cell_type": "code",
      "metadata": {
        "colab": {
          "base_uri": "https://localhost:8080/"
        },
        "id": "GNTJjfQb4kEo",
        "outputId": "7094368f-f2de-427e-9087-15c135e68bc0"
      },
      "source": [
        "# Prueba Bilateral (comparado con cero por defecto, se cambia con el parámetro 'value')\n",
        "ztest(x)"
      ],
      "execution_count": 4,
      "outputs": [
        {
          "output_type": "execute_result",
          "data": {
            "text/plain": [
              "(2.5648404153513686, 0.01032232684881584)"
            ]
          },
          "metadata": {
            "tags": []
          },
          "execution_count": 4
        }
      ]
    },
    {
      "cell_type": "code",
      "metadata": {
        "colab": {
          "base_uri": "https://localhost:8080/"
        },
        "id": "mGAPAkE54o3s",
        "outputId": "300a9c86-964b-4fad-bd85-361bc07b4e9f"
      },
      "source": [
        "# Repliquemos lo anterior con nuestro propio código:\n",
        "mu_hat=x.mean()\n",
        "sigma_hat=x.std(ddof=1)\n",
        "z=mu_hat / (sigma_hat / np.sqrt(N)) # Nuestro mu0=0\n",
        "# p - valor:\n",
        "p_right = 1-norm.cdf(np.abs(z)) #alternativa: usar norm.sf (survival function)\n",
        "p_left = norm.cdf(-np.abs(z))\n",
        "p = p_right + p_left\n",
        "z , p\n"
      ],
      "execution_count": 5,
      "outputs": [
        {
          "output_type": "execute_result",
          "data": {
            "text/plain": [
              "(2.564840415351368, 0.010322326848815901)"
            ]
          },
          "metadata": {
            "tags": []
          },
          "execution_count": 5
        }
      ]
    },
    {
      "cell_type": "markdown",
      "metadata": {
        "id": "AdQur-Q565R9"
      },
      "source": [
        "### Prueba Unilateral"
      ]
    },
    {
      "cell_type": "code",
      "metadata": {
        "colab": {
          "base_uri": "https://localhost:8080/"
        },
        "id": "GWohBaEl61vP",
        "outputId": "b6767f89-f194-4893-ca93-b21f11a76fd9"
      },
      "source": [
        "# Prueba Unilateral a la derecha\n",
        "ztest(x,alternative='larger') # En la H1: mu > mu0"
      ],
      "execution_count": 6,
      "outputs": [
        {
          "output_type": "execute_result",
          "data": {
            "text/plain": [
              "(2.5648404153513686, 0.00516116342440792)"
            ]
          },
          "metadata": {
            "tags": []
          },
          "execution_count": 6
        }
      ]
    },
    {
      "cell_type": "code",
      "metadata": {
        "colab": {
          "base_uri": "https://localhost:8080/"
        },
        "id": "cS36_Xvg7IFz",
        "outputId": "4fbd2809-aae5-425f-a1a7-d5bd89098ec2"
      },
      "source": [
        "# Con nuestro código:\n",
        "mu_hat=x.mean()\n",
        "sigma_hat=x.std(ddof=1)\n",
        "z=mu_hat / (sigma_hat / np.sqrt(N)) # Nuestro mu0=0\n",
        "# p - valor:\n",
        "p = 1-norm.cdf(z) #alternativa: usar norm.sf (survival function)\n",
        "z , p"
      ],
      "execution_count": 7,
      "outputs": [
        {
          "output_type": "execute_result",
          "data": {
            "text/plain": [
              "(2.564840415351368, 0.005161163424407977)"
            ]
          },
          "metadata": {
            "tags": []
          },
          "execution_count": 7
        }
      ]
    },
    {
      "cell_type": "markdown",
      "metadata": {
        "id": "rP00tMf77mv7"
      },
      "source": [
        "### Con un valor de referencia distinto de cero"
      ]
    },
    {
      "cell_type": "code",
      "metadata": {
        "colab": {
          "base_uri": "https://localhost:8080/"
        },
        "id": "MsWCZPJs7mRA",
        "outputId": "a2ee61f3-421b-4830-c2cb-8158a08908af"
      },
      "source": [
        "# Nuestro mu0=0, si queremos otro valor distrinto de cero, tenemos que cambiar el parámetro 'value' dentro de la función ztest:\n",
        "\n",
        "mu0=0.2\n",
        "ztest(x,value=mu0)"
      ],
      "execution_count": 8,
      "outputs": [
        {
          "output_type": "execute_result",
          "data": {
            "text/plain": [
              "(0.5904283402851699, 0.5549035151647227)"
            ]
          },
          "metadata": {
            "tags": []
          },
          "execution_count": 8
        }
      ]
    },
    {
      "cell_type": "code",
      "metadata": {
        "colab": {
          "base_uri": "https://localhost:8080/"
        },
        "id": "1LkYflF78JTS",
        "outputId": "eb90673d-4d2b-4f95-c1ad-d35f6e1536f3"
      },
      "source": [
        "# Repliquemos lo anterior con nuestro propio código:\n",
        "mu_hat=x.mean()\n",
        "sigma_hat=x.std(ddof=1)\n",
        "z=(mu_hat -mu0)/ (sigma_hat / np.sqrt(N)) # Nuestro mu0 ya no es igual a cero\n",
        "# p - valor:\n",
        "p_right = 1-norm.cdf(np.abs(z)) #alternativa: usar norm.sf (survival function)\n",
        "p_left = norm.cdf(-np.abs(z))\n",
        "p = p_right + p_left\n",
        "z , p"
      ],
      "execution_count": 9,
      "outputs": [
        {
          "output_type": "execute_result",
          "data": {
            "text/plain": [
              "(0.5904283402851698, 0.5549035151647228)"
            ]
          },
          "metadata": {
            "tags": []
          },
          "execution_count": 9
        }
      ]
    },
    {
      "cell_type": "markdown",
      "metadata": {
        "id": "6mwX6_dl8TA_"
      },
      "source": [
        "# Dos muestras"
      ]
    },
    {
      "cell_type": "code",
      "metadata": {
        "id": "m7VUyzSS8fW4"
      },
      "source": [
        "# Información muestral\n",
        "N0=100\n",
        "mu0=0.2\n",
        "sigma0=1\n",
        "x0=np.random.randn(N)*sigma0 + mu0\n",
        "\n",
        "N1=100\n",
        "mu1=0.5\n",
        "sigma1=1\n",
        "x1=np.random.randn(N)*sigma1 + mu1"
      ],
      "execution_count": 31,
      "outputs": []
    },
    {
      "cell_type": "markdown",
      "metadata": {
        "id": "2VOUNSxY8ZML"
      },
      "source": [
        "### Bilateral"
      ]
    },
    {
      "cell_type": "code",
      "metadata": {
        "colab": {
          "base_uri": "https://localhost:8080/"
        },
        "id": "J8rzCQxq85vF",
        "outputId": "a20d9f69-152e-4e37-eae6-4f75058dc3cc"
      },
      "source": [
        "ztest(x0,x1)"
      ],
      "execution_count": 33,
      "outputs": [
        {
          "output_type": "execute_result",
          "data": {
            "text/plain": [
              "(-0.7509682956242645, 0.4526717364368833)"
            ]
          },
          "metadata": {
            "tags": []
          },
          "execution_count": 33
        }
      ]
    },
    {
      "cell_type": "code",
      "metadata": {
        "colab": {
          "base_uri": "https://localhost:8080/"
        },
        "id": "3JRaNKHK9jyx",
        "outputId": "bb88a727-f5c2-40d4-9f10-33c4a24986ac"
      },
      "source": [
        "# Repliquemos lo anterior con nuestro propio código:\n",
        "mu_hat0=x0.mean()\n",
        "mu_hat1=x1.mean()\n",
        "\n",
        "dmu_hat= mu_hat1-mu_hat0\n",
        "\n",
        "s2_hat0=x0.var(ddof=1)\n",
        "s2_hat1=x1.var(ddof=1)\n",
        "\n",
        "s_hat=np.sqrt(s2_hat0 / N0 + s2_hat1 / N1)\n",
        "\n",
        "z=(dmu_hat )/ s_hat # Aquí el mu=0\n",
        "\n",
        "# p - valor:\n",
        "p_right = 1-norm.cdf(np.abs(z)) #alternativa: usar norm.sf (survival function)\n",
        "p_left = norm.cdf(-np.abs(z))\n",
        "p = p_right + p_left\n",
        "z , p "
      ],
      "execution_count": 35,
      "outputs": [
        {
          "output_type": "execute_result",
          "data": {
            "text/plain": [
              "(0.7509682956242645, 0.4526717364368833)"
            ]
          },
          "metadata": {
            "tags": []
          },
          "execution_count": 35
        }
      ]
    },
    {
      "cell_type": "markdown",
      "metadata": {
        "id": "NdNRVm5x_YSS"
      },
      "source": [
        "### REPETIR EL TEST 10000 VECES"
      ]
    },
    {
      "cell_type": "code",
      "metadata": {
        "colab": {
          "base_uri": "https://localhost:8080/"
        },
        "id": "uPqaJg61_f3c",
        "outputId": "28933cc4-a7ce-4393-be33-f04169f75af1"
      },
      "source": [
        "# Vamos a mostrar que rechazamos la H0 cuando es cierta (Falsa alarma o Falso positivo) el 5% de las veces:\n",
        "num_tests=10000\n",
        "results=np.zeros(num_tests)\n",
        "for i in range(num_tests):\n",
        "  x1=np.random.randn(100)\n",
        "  x2=np.random.randn(100)\n",
        "  z, p = ztest(x1,x2)\n",
        "  results[i] = (p < 0.05)\n",
        "print(results.mean())"
      ],
      "execution_count": 38,
      "outputs": [
        {
          "output_type": "stream",
          "text": [
            "0.0527\n"
          ],
          "name": "stdout"
        }
      ]
    }
  ]
}