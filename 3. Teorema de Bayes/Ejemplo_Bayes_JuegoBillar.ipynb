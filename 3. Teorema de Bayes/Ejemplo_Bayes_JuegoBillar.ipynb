{
  "nbformat": 4,
  "nbformat_minor": 0,
  "metadata": {
    "colab": {
      "name": "1.Ejemplo_Bayes_JuegoBillar.ipynb",
      "provenance": []
    },
    "kernelspec": {
      "name": "python3",
      "display_name": "Python 3"
    },
    "language_info": {
      "name": "python"
    }
  },
  "cells": [
    {
      "cell_type": "code",
      "metadata": {
        "colab": {
          "base_uri": "https://localhost:8080/",
          "height": 138
        },
        "id": "iHuT0dcnTwmX",
        "outputId": "684b6aa3-7a19-41e8-a36e-122de44a1c28"
      },
      "source": [
        "!pip install ThinkBayes2\n",
        "\n",
        "\"\"\"This file contains code used in \"Think Stats\",\n",
        "by Allen B. Downey, available from greenteapress.com\n",
        "Copyright 2015 Allen B. Downey\n",
        "License: GNU GPLv3 http://www.gnu.org/licenses/gpl.html\n",
        "\"\"\"\n",
        "\n",
        "from __future__ import print_function, division\n",
        "\n",
        "import numpy\n",
        "import thinkbayes2\n",
        "import thinkplot\n",
        "\n",
        "\n",
        "\"\"\"\n",
        "This problem presents a solution to the \"Bayesian Billiards Problem\"\n",
        "Based on the formulation in this paper:\n",
        "http://www.nature.com/nbt/journal/v22/n9/full/nbt0904-1177.html\n",
        "Of a problem originally posed by Bayes himself.\n",
        "\"\"\"\n",
        "\n",
        "class Billiards(thinkbayes2.Suite):\n",
        "\n",
        "    def Likelihood(self, data, hypo):\n",
        "        \"\"\"Computes the likelihood of the data under the hypothesis.\n",
        "        data: tuple (#wins, #losses)\n",
        "        hypo: float probability of win\n",
        "        \"\"\"\n",
        "        p = hypo\n",
        "        win, lose = data\n",
        "        like = p**win * (1-p)**lose\n",
        "        return like\n",
        "\n",
        "\n",
        "def ProbWinMatch(pmf):\n",
        "    total = 0\n",
        "    for p, prob in pmf.Items():\n",
        "        total += prob * (1-p)**3\n",
        "    return total\n",
        "\n",
        "\n",
        "def main():\n",
        "    ps = numpy.linspace(0, 1, 101)\n",
        "    bill = Billiards(ps)\n",
        "    bill.Update((5, 3))\n",
        "    thinkplot.Pdf(bill)\n",
        "    thinkplot.Save(root='billiards1',\n",
        "                   xlabel='probability of win',\n",
        "                   ylabel='PDF',\n",
        "                   formats=['png'])\n",
        "\n",
        "    bayes_result = ProbWinMatch(bill)\n",
        "    print('Bayesian Odd Ratio',thinkbayes2.Odds(1-bayes_result))\n",
        "    print('Bayesian Prob',bayes_result)\n",
        "    \n",
        "    \n",
        "    mle = 5 / 8\n",
        "    freq_result = (1-mle)**3\n",
        "    print('Freq Odd Ratio',thinkbayes2.Odds(1-freq_result))\n",
        "    print('Freq Prob',freq_result)\n",
        "\n",
        "    \n",
        "if __name__ == '__main__':\n",
        "    main()"
      ],
      "execution_count": null,
      "outputs": [
        {
          "output_type": "stream",
          "text": [
            "No handles with labels found to put in legend.\n"
          ],
          "name": "stderr"
        },
        {
          "output_type": "stream",
          "text": [
            "Writing billiards1.png\n",
            "Bayesian Odd Ratio 10.000000461999754\n",
            "Bayesian Prob 0.09090908709091122\n",
            "Freq Odd Ratio 17.962962962962962\n",
            "Freq Prob 0.052734375\n"
          ],
          "name": "stdout"
        },
        {
          "output_type": "display_data",
          "data": {
            "text/plain": [
              "<Figure size 576x432 with 0 Axes>"
            ]
          },
          "metadata": {
            "tags": []
          }
        }
      ]
    },
    {
      "cell_type": "code",
      "metadata": {
        "colab": {
          "base_uri": "https://localhost:8080/"
        },
        "id": "ttjCfC7dYX0a",
        "outputId": "4fcbcb75-6386-448e-8b63-d754692b6600"
      },
      "source": [
        "# Another way, using Monte Carlo simulations:\n",
        "\n",
        "import numpy as np\n",
        "#np.random.seed(0)\n",
        "\n",
        "# play 100000 games with randomly-drawn p, between 0 and 1\n",
        "p = np.random.random(100000)\n",
        "\n",
        "# each game needs at most 11 rolls for one player to reach 6 wins\n",
        "rolls = np.random.random((11, len(p)))\n",
        "\n",
        "# count the cumulative wins for Alice and Bob at each roll\n",
        "Alice_count = np.cumsum(rolls < p, 0)\n",
        "Bob_count = np.cumsum(rolls >= p, 0)\n",
        "\n",
        "# sanity check: total number of wins should equal number of rolls\n",
        "total_wins = Alice_count + Bob_count\n",
        "assert np.all(total_wins.T == np.arange(1, 12))\n",
        "\n",
        "# determine number of games which meet our criterion of (A wins, B wins)=(5, 3)\n",
        "# this means Bob's win count at eight rolls must equal 3\n",
        "good_games = Bob_count[7] == 3\n",
        "print(\"Number of suitable games: {0}\".format(good_games.sum()))\n",
        "\n",
        "# truncate our results to consider only these games\n",
        "Alice_count = Alice_count[:, good_games]\n",
        "Bob_count = Bob_count[:, good_games]\n",
        "\n",
        "# determine which of these games Bob won.\n",
        "# to win, he must reach six wins after 11 rolls.\n",
        "bob_won = np.sum(Bob_count[10] == 6)\n",
        "print(\"Number of these games Bob won: {0}\".format(bob_won.sum()))\n",
        "\n",
        "# compute the probability\n",
        "mc_prob = bob_won.sum() * 1. / good_games.sum()\n",
        "print(\"Monte Carlo Probability of Bob winning: {0:.2f}\".format(mc_prob))\n",
        "print(\"MC Odds against Bob winning: {0:.0f} to 1\".format((1. - mc_prob) / mc_prob))"
      ],
      "execution_count": null,
      "outputs": [
        {
          "output_type": "stream",
          "text": [
            "(Sanity check passed)\n",
            "Number of suitable games: 10892\n",
            "Number of these games Bob won: 1006\n",
            "Monte Carlo Probability of Bob winning: 0.09\n",
            "MC Odds against Bob winning: 10 to 1\n"
          ],
          "name": "stdout"
        }
      ]
    },
    {
      "cell_type": "code",
      "metadata": {
        "id": "7FgqUgahYwRz"
      },
      "source": [
        "#Running m repetitions and reporting in figure:\n",
        "import matplotlib.pyplot as plt\n",
        "\n",
        "def AliceBobGame(m):\n",
        "  mc_prob_vector=np.zeros(m)\n",
        "  for i in range(m):     \n",
        "    p = np.random.random(100000)\n",
        "    rolls = np.random.random((11, len(p)))\n",
        "    Alice_count = np.cumsum(rolls < p, 0)\n",
        "    Bob_count = np.cumsum(rolls >= p, 0)\n",
        "    total_wins = Alice_count + Bob_count\n",
        "    assert np.all(total_wins.T == np.arange(1, 12))\n",
        "    good_games = Bob_count[7] == 3\n",
        "    Alice_count = Alice_count[:, good_games]\n",
        "    Bob_count = Bob_count[:, good_games]\n",
        "    bob_won = np.sum(Bob_count[10] == 6)\n",
        "    # compute the probability\n",
        "    mc_prob_vector[i] = bob_won.sum() * 1. / good_games.sum()\n",
        "\n",
        "  x=range(m)\n",
        "  plt.ylim(0, 1)\n",
        "  plt.plot(x,mc_prob_vector)\n",
        "  plt.ylabel('Probability of Bob winning')\n",
        "  plt.show()\n",
        "  \n",
        "  return mc_prob_vector\n"
      ],
      "execution_count": null,
      "outputs": []
    },
    {
      "cell_type": "code",
      "metadata": {
        "colab": {
          "base_uri": "https://localhost:8080/",
          "height": 580
        },
        "id": "20Ne6nAgeETa",
        "outputId": "687e8c0b-b629-46fc-8243-c842ce9dc37e"
      },
      "source": [
        "# 100 repetitions\n",
        "mc_prob_vector=AliceBobGame(100)\n",
        "print(mc_prob_vector)\n",
        "print('Mean',np.mean(mc_prob_vector))"
      ],
      "execution_count": null,
      "outputs": [
        {
          "output_type": "display_data",
          "data": {
            "image/png": "[encoded data removed]",
            "text/plain": [
              "<Figure size 432x288 with 1 Axes>"
            ]
          },
          "metadata": {
            "tags": [],
            "needs_background": "light"
          }
        },
        {
          "output_type": "stream",
          "text": [
            "[0.0900215  0.09252127 0.09461142 0.0918668  0.09062275 0.08691732\n",
            " 0.08935018 0.09002544 0.09519533 0.08944705 0.09177473 0.08643976\n",
            " 0.08955762 0.10033264 0.08805479 0.10071616 0.09170068 0.09127881\n",
            " 0.09301066 0.09180149 0.09000709 0.09192301 0.09298753 0.09214584\n",
            " 0.09074701 0.08506298 0.09204945 0.09276058 0.08976221 0.08903493\n",
            " 0.09066957 0.09395121 0.09436848 0.09746928 0.09270571 0.09315589\n",
            " 0.09029223 0.0902709  0.08930649 0.0881982  0.08993807 0.09099857\n",
            " 0.09156065 0.09121377 0.09217549 0.08633223 0.09041738 0.09150152\n",
            " 0.08880963 0.09289041 0.08874439 0.08903619 0.09532744 0.0902784\n",
            " 0.09411446 0.08748536 0.0897367  0.08910891 0.09332857 0.08780664\n",
            " 0.0858209  0.09071524 0.09143467 0.09296256 0.09006183 0.08860759\n",
            " 0.09612984 0.08739435 0.08547009 0.09094158 0.09039345 0.0881233\n",
            " 0.08974475 0.08531782 0.08827786 0.08905096 0.09042411 0.09262693\n",
            " 0.08852845 0.09164839 0.09112192 0.08999286 0.09095836 0.09078566\n",
            " 0.09213563 0.09027778 0.09085241 0.09238351 0.09546067 0.08787632\n",
            " 0.08524115 0.08845253 0.09275441 0.08813256 0.08925204 0.09158812\n",
            " 0.09213483 0.09312073 0.09321275 0.08948506]\n",
            "Mean 0.0908181374677289\n"
          ],
          "name": "stdout"
        }
      ]
    },
    {
      "cell_type": "code",
      "metadata": {
        "colab": {
          "base_uri": "https://localhost:8080/",
          "height": 286
        },
        "id": "I1y53987eUG_",
        "outputId": "901e01de-6dd0-4e81-e61e-5d031693ecb3"
      },
      "source": [
        "# 10000 repetitions (this will take longer)\n",
        "mc_prob_vector2=AliceBobGame(10000)\n",
        "print('Mean',np.mean(mc_prob_vector2))"
      ],
      "execution_count": null,
      "outputs": [
        {
          "output_type": "display_data",
          "data": {
            "image/png": "[encoded data removed]",
            "text/plain": [
              "<Figure size 432x288 with 1 Axes>"
            ]
          },
          "metadata": {
            "tags": [],
            "needs_background": "light"
          }
        },
        {
          "output_type": "stream",
          "text": [
            "Mean 0.09091359962605433\n"
          ],
          "name": "stdout"
        }
      ]
    }
  ]
}