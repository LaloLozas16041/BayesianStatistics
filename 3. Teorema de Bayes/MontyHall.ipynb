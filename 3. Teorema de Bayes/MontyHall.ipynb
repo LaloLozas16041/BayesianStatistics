{
  "nbformat": 4,
  "nbformat_minor": 0,
  "metadata": {
    "colab": {
      "name": "2. MontyHall.ipynb",
      "provenance": []
    },
    "kernelspec": {
      "name": "python3",
      "display_name": "Python 3"
    },
    "language_info": {
      "name": "python"
    }
  },
  "cells": [
    {
      "cell_type": "code",
      "metadata": {
        "id": "BrPp0Iak0jz-"
      },
      "source": [
        "import numpy as np\n",
        "import random\n",
        "def monty_hall(switch):\n",
        "    door_1 = 'goat'\n",
        "    door_2 = 'goat'\n",
        "    door_3 = 'car'\n",
        "    l = [door_1, door_2, door_3]\n",
        "    my_choice = random.choice(l)\n",
        "    if my_choice != door_1:\n",
        "        reveal = door_1\n",
        "    else:\n",
        "        reveal = door_2\n",
        "    if switch:\n",
        "        l.remove(reveal)\n",
        "        l.remove(my_choice)\n",
        "        return l[0]\n",
        "    else:\n",
        "        return my_choice\n",
        "def run_experiment(ntrials, switch):\n",
        "    a = []\n",
        "    for i in range(ntrials):\n",
        "        a.append(monty_hall(switch))\n",
        "    return a.count('car')/len(a)"
      ],
      "execution_count": 2,
      "outputs": []
    },
    {
      "cell_type": "markdown",
      "metadata": {
        "id": "wX6jB7DD0uVf"
      },
      "source": [
        "## Probabilidad de ganar si no cambiamos"
      ]
    },
    {
      "cell_type": "code",
      "metadata": {
        "colab": {
          "base_uri": "https://localhost:8080/"
        },
        "id": "hJJ-HolC0oVF",
        "outputId": "f767fa30-cdf3-4247-8c58-7339b38dd6a6"
      },
      "source": [
        "p=run_experiment(10000, switch = False)\n",
        "print(f'Probability of winning the car: {p}')"
      ],
      "execution_count": 7,
      "outputs": [
        {
          "output_type": "stream",
          "text": [
            "Probability of winning the car: 0.3365\n"
          ],
          "name": "stdout"
        }
      ]
    },
    {
      "cell_type": "markdown",
      "metadata": {
        "id": "wJ2ldJxY0yF-"
      },
      "source": [
        "## Probabilidad de ganar si cambiamos"
      ]
    },
    {
      "cell_type": "code",
      "metadata": {
        "colab": {
          "base_uri": "https://localhost:8080/"
        },
        "id": "oQizWNB50qqe",
        "outputId": "de35be55-06bb-48c6-e0f9-afc8fa15ccee"
      },
      "source": [
        "p=run_experiment(10000, switch = True)\n",
        "print(f'Probability of winning the car: {p}')"
      ],
      "execution_count": 11,
      "outputs": [
        {
          "output_type": "stream",
          "text": [
            "Probability of winning the car: 0.6663\n"
          ],
          "name": "stdout"
        }
      ]
    }
  ]
}