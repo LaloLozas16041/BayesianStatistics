{
  "nbformat": 4,
  "nbformat_minor": 0,
  "metadata": {
    "colab": {
      "name": "Análisis_discriminante_bayesiano.ipynb",
      "provenance": []
    },
    "kernelspec": {
      "name": "python3",
      "display_name": "Python 3"
    },
    "language_info": {
      "name": "python"
    }
  },
  "cells": [
    {
      "cell_type": "code",
      "metadata": {
        "id": "ljA9eXSXJMY9"
      },
      "source": [
        "from sklearn.datasets import load_wine\n",
        "import pandas as pd\n",
        "import numpy as np\n",
        "np.set_printoptions(precision=4)\n",
        "from matplotlib import pyplot as plt\n",
        "import seaborn as sns\n",
        "sns.set()\n",
        "from sklearn.preprocessing import LabelEncoder\n",
        "from sklearn.tree import DecisionTreeClassifier\n",
        "from sklearn.model_selection import train_test_split\n",
        "from sklearn.metrics import confusion_matrix"
      ],
      "execution_count": 1,
      "outputs": []
    },
    {
      "cell_type": "markdown",
      "metadata": {
        "id": "bIZhYO5Mg9OH"
      },
      "source": [
        "[Información sobre el dataset de Vinos](https://scikit-learn.org/stable/datasets/toy_dataset.html#wine-dataset)"
      ]
    },
    {
      "cell_type": "code",
      "metadata": {
        "colab": {
          "base_uri": "https://localhost:8080/"
        },
        "id": "114wxnnWJWDA",
        "outputId": "80d29bd5-5b9e-431a-d6a4-c38023aa37e3"
      },
      "source": [
        "# Veamos el dataset de vinos\n",
        "wine_info = load_wine()\n",
        "X = pd.DataFrame(wine_info.data, columns=wine_info.feature_names)\n",
        "y = pd.Categorical.from_codes(wine_info.target, wine_info.target_names)\n",
        "X.shape #178 datos y 13 variables"
      ],
      "execution_count": 2,
      "outputs": [
        {
          "output_type": "execute_result",
          "data": {
            "text/plain": [
              "(178, 13)"
            ]
          },
          "metadata": {
            "tags": []
          },
          "execution_count": 2
        }
      ]
    },
    {
      "cell_type": "code",
      "metadata": {
        "colab": {
          "base_uri": "https://localhost:8080/",
          "height": 205
        },
        "id": "NgtHlpqcJaVu",
        "outputId": "e35b47e7-4e86-42b6-ad24-5a782267f46e"
      },
      "source": [
        "X.head() "
      ],
      "execution_count": 3,
      "outputs": [
        {
          "output_type": "execute_result",
          "data": {
            "text/html": [
              "<div>\n",
              "<style scoped>\n",
              "    .dataframe tbody tr th:only-of-type {\n",
              "        vertical-align: middle;\n",
              "    }\n",
              "\n",
              "    .dataframe tbody tr th {\n",
              "        vertical-align: top;\n",
              "    }\n",
              "\n",
              "    .dataframe thead th {\n",
              "        text-align: right;\n",
              "    }\n",
              "</style>\n",
              "<table border=\"1\" class=\"dataframe\">\n",
              "  <thead>\n",
              "    <tr style=\"text-align: right;\">\n",
              "      <th></th>\n",
              "      <th>alcohol</th>\n",
              "      <th>malic_acid</th>\n",
              "      <th>ash</th>\n",
              "      <th>alcalinity_of_ash</th>\n",
              "      <th>magnesium</th>\n",
              "      <th>total_phenols</th>\n",
              "      <th>flavanoids</th>\n",
              "      <th>nonflavanoid_phenols</th>\n",
              "      <th>proanthocyanins</th>\n",
              "      <th>color_intensity</th>\n",
              "      <th>hue</th>\n",
              "      <th>od280/od315_of_diluted_wines</th>\n",
              "      <th>proline</th>\n",
              "    </tr>\n",
              "  </thead>\n",
              "  <tbody>\n",
              "    <tr>\n",
              "      <th>0</th>\n",
              "      <td>14.23</td>\n",
              "      <td>1.71</td>\n",
              "      <td>2.43</td>\n",
              "      <td>15.6</td>\n",
              "      <td>127.0</td>\n",
              "      <td>2.80</td>\n",
              "      <td>3.06</td>\n",
              "      <td>0.28</td>\n",
              "      <td>2.29</td>\n",
              "      <td>5.64</td>\n",
              "      <td>1.04</td>\n",
              "      <td>3.92</td>\n",
              "      <td>1065.0</td>\n",
              "    </tr>\n",
              "    <tr>\n",
              "      <th>1</th>\n",
              "      <td>13.20</td>\n",
              "      <td>1.78</td>\n",
              "      <td>2.14</td>\n",
              "      <td>11.2</td>\n",
              "      <td>100.0</td>\n",
              "      <td>2.65</td>\n",
              "      <td>2.76</td>\n",
              "      <td>0.26</td>\n",
              "      <td>1.28</td>\n",
              "      <td>4.38</td>\n",
              "      <td>1.05</td>\n",
              "      <td>3.40</td>\n",
              "      <td>1050.0</td>\n",
              "    </tr>\n",
              "    <tr>\n",
              "      <th>2</th>\n",
              "      <td>13.16</td>\n",
              "      <td>2.36</td>\n",
              "      <td>2.67</td>\n",
              "      <td>18.6</td>\n",
              "      <td>101.0</td>\n",
              "      <td>2.80</td>\n",
              "      <td>3.24</td>\n",
              "      <td>0.30</td>\n",
              "      <td>2.81</td>\n",
              "      <td>5.68</td>\n",
              "      <td>1.03</td>\n",
              "      <td>3.17</td>\n",
              "      <td>1185.0</td>\n",
              "    </tr>\n",
              "    <tr>\n",
              "      <th>3</th>\n",
              "      <td>14.37</td>\n",
              "      <td>1.95</td>\n",
              "      <td>2.50</td>\n",
              "      <td>16.8</td>\n",
              "      <td>113.0</td>\n",
              "      <td>3.85</td>\n",
              "      <td>3.49</td>\n",
              "      <td>0.24</td>\n",
              "      <td>2.18</td>\n",
              "      <td>7.80</td>\n",
              "      <td>0.86</td>\n",
              "      <td>3.45</td>\n",
              "      <td>1480.0</td>\n",
              "    </tr>\n",
              "    <tr>\n",
              "      <th>4</th>\n",
              "      <td>13.24</td>\n",
              "      <td>2.59</td>\n",
              "      <td>2.87</td>\n",
              "      <td>21.0</td>\n",
              "      <td>118.0</td>\n",
              "      <td>2.80</td>\n",
              "      <td>2.69</td>\n",
              "      <td>0.39</td>\n",
              "      <td>1.82</td>\n",
              "      <td>4.32</td>\n",
              "      <td>1.04</td>\n",
              "      <td>2.93</td>\n",
              "      <td>735.0</td>\n",
              "    </tr>\n",
              "  </tbody>\n",
              "</table>\n",
              "</div>"
            ],
            "text/plain": [
              "   alcohol  malic_acid   ash  ...   hue  od280/od315_of_diluted_wines  proline\n",
              "0    14.23        1.71  2.43  ...  1.04                          3.92   1065.0\n",
              "1    13.20        1.78  2.14  ...  1.05                          3.40   1050.0\n",
              "2    13.16        2.36  2.67  ...  1.03                          3.17   1185.0\n",
              "3    14.37        1.95  2.50  ...  0.86                          3.45   1480.0\n",
              "4    13.24        2.59  2.87  ...  1.04                          2.93    735.0\n",
              "\n",
              "[5 rows x 13 columns]"
            ]
          },
          "metadata": {
            "tags": []
          },
          "execution_count": 3
        }
      ]
    },
    {
      "cell_type": "code",
      "metadata": {
        "colab": {
          "base_uri": "https://localhost:8080/"
        },
        "id": "WybryExiJmbj",
        "outputId": "e3d774bd-6738-42f8-d3e6-43d383ab5ae4"
      },
      "source": [
        "# Categorías: 3\n",
        "y"
      ],
      "execution_count": 4,
      "outputs": [
        {
          "output_type": "execute_result",
          "data": {
            "text/plain": [
              "['class_0', 'class_0', 'class_0', 'class_0', 'class_0', ..., 'class_2', 'class_2', 'class_2', 'class_2', 'class_2']\n",
              "Length: 178\n",
              "Categories (3, object): ['class_0', 'class_1', 'class_2']"
            ]
          },
          "metadata": {
            "tags": []
          },
          "execution_count": 4
        }
      ]
    },
    {
      "cell_type": "code",
      "metadata": {
        "id": "AWSh-f5TKMbg"
      },
      "source": [
        "# LDA\n",
        "from sklearn.discriminant_analysis import LinearDiscriminantAnalysis\n",
        "lda_model = LinearDiscriminantAnalysis()\n",
        "X_lda = lda_model.fit_transform(X, y)"
      ],
      "execution_count": 6,
      "outputs": []
    },
    {
      "cell_type": "code",
      "metadata": {
        "colab": {
          "base_uri": "https://localhost:8080/",
          "height": 302
        },
        "id": "ogKPbj0aKMW5",
        "outputId": "0e66b21a-d489-4ef3-bc99-ca0c2ad05995"
      },
      "source": [
        "colors = {'class_0':'red', 'class_1':'green', 'class_2':'yellow'}\n",
        "\n",
        "plt.xlabel('LDA1')\n",
        "plt.ylabel('LDA2')\n",
        "plt.scatter(\n",
        "X_lda[:,0],\n",
        "X_lda[:,1],\n",
        "   c=y.map(colors),\n",
        "   alpha=0.7,\n",
        "edgecolors='k'\n",
        ")"
      ],
      "execution_count": 7,
      "outputs": [
        {
          "output_type": "execute_result",
          "data": {
            "text/plain": [
              "<matplotlib.collections.PathCollection at 0x7fa5b04f2d50>"
            ]
          },
          "metadata": {
            "tags": []
          },
          "execution_count": 7
        },
        {
          "output_type": "display_data",
          "data": {
            "image/png": "[encoded data removed]",
            "text/plain": [
              "<Figure size 432x288 with 1 Axes>"
            ]
          },
          "metadata": {
            "tags": [],
            "needs_background": "light"
          }
        }
      ]
    },
    {
      "cell_type": "code",
      "metadata": {
        "colab": {
          "base_uri": "https://localhost:8080/"
        },
        "id": "TjrvCcT5ikgR",
        "outputId": "e60d9ec9-5692-456a-8d90-c6b08fa0bf05"
      },
      "source": [
        "X_lda"
      ],
      "execution_count": null,
      "outputs": [
        {
          "output_type": "execute_result",
          "data": {
            "text/plain": [
              "array([[-4.7002,  1.9791],\n",
              "       [-4.302 ,  1.1704],\n",
              "       [-3.4207,  1.4291],\n",
              "       [-4.2058,  4.0029],\n",
              "       [-1.51  ,  0.4512],\n",
              "       [-4.5187,  3.2131],\n",
              "       [-4.5274,  3.2691],\n",
              "       [-4.1483,  3.1041],\n",
              "       [-3.8608,  1.9534],\n",
              "       [-3.3666,  1.6786],\n",
              "       [-4.8059,  2.2354],\n",
              "       [-3.4281,  2.1751],\n",
              "       [-3.6661,  2.2625],\n",
              "       [-5.5882,  2.0548],\n",
              "       [-5.5013,  3.613 ],\n",
              "       [-3.1848,  2.8895],\n",
              "       [-3.2894,  2.7658],\n",
              "       [-2.9981,  1.4251],\n",
              "       [-5.2464,  3.7098],\n",
              "       [-3.1365,  1.9769],\n",
              "       [-3.5775,  0.5625],\n",
              "       [-1.6908,  0.9134],\n",
              "       [-4.8352,  0.9148],\n",
              "       [-3.0959,  0.6174],\n",
              "       [-3.3216,  0.2985],\n",
              "       [-2.1448,  0.1637],\n",
              "       [-3.9824,  2.1752],\n",
              "       [-2.6859,  1.2185],\n",
              "       [-3.5631,  1.0382],\n",
              "       [-3.173 ,  1.3779],\n",
              "       [-2.9963,  1.3242],\n",
              "       [-3.5687,  2.3407],\n",
              "       [-3.3851,  0.2012],\n",
              "       [-3.5275,  1.7159],\n",
              "       [-2.8519,  1.4707],\n",
              "       [-2.7941,  0.2379],\n",
              "       [-2.7581,  1.5697],\n",
              "       [-2.1773,  1.0104],\n",
              "       [-3.0293, -0.2351],\n",
              "       [-3.2711,  2.604 ],\n",
              "       [-2.9207,  0.2552],\n",
              "       [-2.2372,  0.9195],\n",
              "       [-4.6997,  2.5608],\n",
              "       [-1.2304,  0.4226],\n",
              "       [-2.582 , -0.3503],\n",
              "       [-2.5831,  2.8769],\n",
              "       [-3.8889,  2.0516],\n",
              "       [-3.4498,  0.9518],\n",
              "       [-2.3422,  1.4326],\n",
              "       [-3.5206,  2.0816],\n",
              "       [-3.2184,  0.8791],\n",
              "       [-4.3821,  2.1647],\n",
              "       [-4.3631,  2.2718],\n",
              "       [-3.5192,  3.0074],\n",
              "       [-3.1228,  1.5936],\n",
              "       [-1.8024,  1.3301],\n",
              "       [-2.8738,  1.7299],\n",
              "       [-3.6169,  2.2912],\n",
              "       [-3.7387,  2.4601],\n",
              "       [ 1.5862, -2.4238],\n",
              "       [ 0.7997, -1.3941],\n",
              "       [ 2.3802, -1.4519],\n",
              "       [-0.4592, -1.1905],\n",
              "       [-0.5073, -3.1666],\n",
              "       [ 0.394 , -2.7798],\n",
              "       [-0.9226, -1.3887],\n",
              "       [-1.9555, -2.6936],\n",
              "       [-0.3473, -2.5929],\n",
              "       [ 0.2037,  0.0196],\n",
              "       [-0.2483, -2.7562],\n",
              "       [ 1.1799, -0.9003],\n",
              "       [-1.0772, -1.8267],\n",
              "       [ 0.641 , -1.4453],\n",
              "       [-1.7468, -1.7846],\n",
              "       [-0.3472, -1.4881],\n",
              "       [ 1.1427, -3.0892],\n",
              "       [ 0.1867, -2.6732],\n",
              "       [ 0.9005, -1.8194],\n",
              "       [-0.7071, -2.123 ],\n",
              "       [-0.5956, -2.4896],\n",
              "       [-0.5576, -4.653 ],\n",
              "       [-1.8043, -1.4871],\n",
              "       [ 0.2308, -2.8429],\n",
              "       [ 2.0348, -0.7903],\n",
              "       [-0.6211, -1.6969],\n",
              "       [-1.0337, -2.4414],\n",
              "       [ 0.766 , -3.4464],\n",
              "       [ 0.3504, -3.2294],\n",
              "       [ 0.1532, -2.1129],\n",
              "       [-0.1496, -2.9919],\n",
              "       [ 0.4808, -2.54  ],\n",
              "       [ 1.3969, -2.5408],\n",
              "       [ 0.9197, -2.2486],\n",
              "       [-0.591 , -2.9385],\n",
              "       [ 0.4941, -2.9363],\n",
              "       [-1.6261, -2.0205],\n",
              "       [ 2.0004, -0.6345],\n",
              "       [-1.0053, -3.3311],\n",
              "       [-2.0712, -2.7145],\n",
              "       [-1.6382, -3.8774],\n",
              "       [-1.0589, -2.9999],\n",
              "       [ 0.0259, -2.3541],\n",
              "       [-0.2189, -1.6429],\n",
              "       [ 1.3644, -3.8175],\n",
              "       [-1.129 , -2.3269],\n",
              "       [-0.2126, -2.9968],\n",
              "       [-0.7795, -2.4728],\n",
              "       [ 0.6155, -2.1782],\n",
              "       [ 0.2255, -3.7973],\n",
              "       [-2.0387, -2.1853],\n",
              "       [ 0.7927, -3.6616],\n",
              "       [ 0.3023, -2.7953],\n",
              "       [-0.5066, -1.0953],\n",
              "       [ 0.9984, -3.446 ],\n",
              "       [-0.2195, -2.7976],\n",
              "       [-0.3713, -6.0056],\n",
              "       [ 0.0555, -3.4785],\n",
              "       [-0.0914, -3.6198],\n",
              "       [ 1.7976, -0.8501],\n",
              "       [-0.1741, -2.6322],\n",
              "       [-1.1787, -2.2052],\n",
              "       [-3.2105, -2.9053],\n",
              "       [ 0.6261, -1.9957],\n",
              "       [ 0.0337, -1.3844],\n",
              "       [-0.6993, -2.4594],\n",
              "       [-0.7206, -3.2467],\n",
              "       [-0.5193, -2.8697],\n",
              "       [ 1.1703, -3.3195],\n",
              "       [ 0.1082, -3.7988],\n",
              "       [ 1.1232, -1.2878],\n",
              "       [ 2.2463,  0.1873],\n",
              "       [ 3.2853,  0.6961],\n",
              "       [ 4.0724,  0.1443],\n",
              "       [ 3.8669,  0.535 ],\n",
              "       [ 3.4509, -0.2173],\n",
              "       [ 3.7158,  0.5651],\n",
              "       [ 3.9222,  0.8935],\n",
              "       [ 4.8516,  0.3141],\n",
              "       [ 3.5499,  0.916 ],\n",
              "       [ 3.7689,  0.2255],\n",
              "       [ 2.6694,  1.1411],\n",
              "       [ 2.3249,  1.9485],\n",
              "       [ 3.1771,  1.0599],\n",
              "       [ 2.8896,  1.1571],\n",
              "       [ 3.7833,  2.0074],\n",
              "       [ 3.0441,  0.9812],\n",
              "       [ 4.707 ,  1.8178],\n",
              "       [ 4.8502,  2.2082],\n",
              "       [ 4.9836,  2.035 ],\n",
              "       [ 4.8697,  1.8083],\n",
              "       [ 4.5987,  1.8722],\n",
              "       [ 5.6745,  1.8258],\n",
              "       [ 5.3299,  0.5822],\n",
              "       [ 5.034 ,  2.2773],\n",
              "       [ 4.5208, -0.0067],\n",
              "       [ 5.0978,  2.0016],\n",
              "       [ 5.0437,  2.5119],\n",
              "       [ 4.8698,  1.0916],\n",
              "       [ 5.6132,  2.9844],\n",
              "       [ 5.6705,  2.2731],\n",
              "       [ 5.3741,  0.7625],\n",
              "       [ 3.0998,  1.9411],\n",
              "       [ 3.3589,  0.5487],\n",
              "       [ 3.0401,  1.457 ],\n",
              "       [ 4.9486,  2.1899],\n",
              "       [ 4.545 ,  1.2199],\n",
              "       [ 5.2726,  2.7162],\n",
              "       [ 5.1302,  2.2917],\n",
              "       [ 4.3047,  2.3911],\n",
              "       [ 5.0834,  3.1577],\n",
              "       [ 4.0674,  0.3189],\n",
              "       [ 5.7421,  1.4671],\n",
              "       [ 4.4821,  3.3071],\n",
              "       [ 4.2915,  3.3903],\n",
              "       [ 4.5033,  2.0835],\n",
              "       [ 5.0475,  3.1962],\n",
              "       [ 4.2762,  2.4314],\n",
              "       [ 5.5381,  3.0421]])"
            ]
          },
          "metadata": {
            "tags": []
          },
          "execution_count": 19
        }
      ]
    },
    {
      "cell_type": "code",
      "metadata": {
        "id": "ofYQiRsRPHV4"
      },
      "source": [
        "# Train - Test split para construir un clasificador\n",
        "X_train, X_test, y_train, y_test = train_test_split(X_lda, y, random_state=1)"
      ],
      "execution_count": 8,
      "outputs": []
    },
    {
      "cell_type": "code",
      "metadata": {
        "colab": {
          "base_uri": "https://localhost:8080/"
        },
        "id": "NT0AhLC_PJc_",
        "outputId": "f3b71383-ab36-4968-8eeb-70b2cfe4305e"
      },
      "source": [
        "# Clasificador Decision Tree usando la transformación de LDA:\n",
        "data = DecisionTreeClassifier()\n",
        "data.fit(X_train, y_train)\n",
        "y_pred = data.predict(X_test)\n",
        "confusion_matrix(y_test, y_pred) # Clasifica correctamente todos los datos en el conjunto de prueba."
      ],
      "execution_count": 9,
      "outputs": [
        {
          "output_type": "execute_result",
          "data": {
            "text/plain": [
              "array([[18,  0,  0],\n",
              "       [ 0, 17,  0],\n",
              "       [ 0,  0, 10]])"
            ]
          },
          "metadata": {
            "tags": []
          },
          "execution_count": 9
        }
      ]
    },
    {
      "cell_type": "code",
      "metadata": {
        "colab": {
          "base_uri": "https://localhost:8080/"
        },
        "id": "NU4qVL_CQDVd",
        "outputId": "05706a88-81a2-4418-857b-ac54ed263ff8"
      },
      "source": [
        "# Clasificador Decision Tree sin usar la transformación de LDA:\n",
        "X_train, X_test, y_train, y_test = train_test_split(X, y, random_state=1)\n",
        "data = DecisionTreeClassifier()\n",
        "data.fit(X_train, y_train)\n",
        "y_pred = data.predict(X_test)\n",
        "confusion_matrix(y_test, y_pred) # Clasifica incorrectamente algunos datos en el conjunto de prueba, usar LDA es mejor."
      ],
      "execution_count": 10,
      "outputs": [
        {
          "output_type": "execute_result",
          "data": {
            "text/plain": [
              "array([[18,  0,  0],\n",
              "       [ 1, 15,  1],\n",
              "       [ 0,  0, 10]])"
            ]
          },
          "metadata": {
            "tags": []
          },
          "execution_count": 10
        }
      ]
    },
    {
      "cell_type": "code",
      "metadata": {
        "id": "K52d0uGgQ19T",
        "colab": {
          "base_uri": "https://localhost:8080/"
        },
        "outputId": "7cd17f82-9160-4903-e62e-d854f4d8251b"
      },
      "source": [
        "# Clasificador directo\n",
        "X_ldafit = lda_model.fit(X_train, y_train)\n",
        "y_pred = X_ldafit.predict(X_test)\n",
        "confusion_matrix(y_test, y_pred) # Clasifica correctamente todos los datos en el conjunto de prueba."
      ],
      "execution_count": 45,
      "outputs": [
        {
          "output_type": "execute_result",
          "data": {
            "text/plain": [
              "array([[18,  0,  0],\n",
              "       [ 0, 17,  0],\n",
              "       [ 0,  0, 10]])"
            ]
          },
          "metadata": {
            "tags": []
          },
          "execution_count": 45
        }
      ]
    }
  ]
}