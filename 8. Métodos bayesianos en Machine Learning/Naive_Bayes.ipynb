{
  "nbformat": 4,
  "nbformat_minor": 0,
  "metadata": {
    "colab": {
      "name": "Naive Bayes.ipynb",
      "provenance": []
    },
    "kernelspec": {
      "name": "python3",
      "display_name": "Python 3"
    },
    "language_info": {
      "name": "python"
    }
  },
  "cells": [
    {
      "cell_type": "markdown",
      "metadata": {
        "id": "ieV_7np1kjkj"
      },
      "source": [
        "El clasificador Naive Bayes se basa en encontrar funciones que describan la probabilidad de pertenecer a una clase de características determinadas:\n",
        "\n",
        "$$P(Supervivencia|f_1,...,f_n)$$\n",
        "\n",
        "\n",
        "Aplicamos la ley de Bayes para simplificar el cálculo:\n",
        "\n",
        "$$P(Supervivencia|f_1,...,f_n)=P(f_1,...,f_n|Supervivencia)\\times P(Supervivencia) / P(f_1,...,f_n)$$\n",
        "\n",
        "\n",
        "La probabilidad $P(Supervivencia)$ es fácil de calcular y el denominador en realidad no se necesita porque no cambia.\n",
        "\n",
        "Todo se reduce a encontrar $P(f_1,...,f_n|Supervivencia)$.\n",
        "\n",
        "Si aplicamos la fórmula para la probabilidad condicional:\n",
        "\n",
        "$$P(f_1,...,f_n|Supervivencia)=P(f_1|Supervivencia)\\times P(f_2|Supervivencia,f_1)\\times ... \\times P(f_n|Supervivencia,f_1,...,f_{n-1})$$\n",
        "\n",
        "Pero si las variables son independientes se simplifica a:\n",
        "\n",
        "$$P(f_1,...,f_n|Supervivencia)=\\prod_{i = 1}^{n} P(f_i|Supervivencia)$$\n",
        "\n",
        "Finalmente, para clasificar un nuevo vector de características, tendríamos que elegir el valor de Supervivencia (0 o 1) para el cual $P(f_1,...,f_n|Supervivencia)$ se maximiza:\n",
        "\n",
        "$$classifier(f_1,...,f_n) = argmax_{s \\in \\{0,1 \\} } P(f_1,...,f_n | s)$$\n",
        "\n",
        "Quedaría por decidir cómo hallar las probabilidades $P(f_i,Supervivencia)$. En el paquete de Sklearn vienen disponibles tres distribuciones que se pueden asumir para modelarla:\n",
        "1. Gaussiana: Asume que las características son variables continuas y tienen distribución Normal.\n",
        "2. Multinomial: Variables discretas.\n",
        "3. Bernoulli: Variables binarias."
      ]
    },
    {
      "cell_type": "code",
      "metadata": {
        "id": "NnrOqWwDBW-d"
      },
      "source": [
        "import pandas as pd\n",
        "import numpy as np\n",
        "import matplotlib.pyplot as plt\n",
        "from sklearn.model_selection import train_test_split\n",
        "from sklearn.naive_bayes import GaussianNB, BernoulliNB, MultinomialNB\n",
        "\n",
        "# Importing dataset\n",
        "data = pd.read_csv(\"train.csv\")\n",
        "\n",
        "# Convert categorical variable to numeric\n",
        "data[\"Sex_cleaned\"]=np.where(data[\"Sex\"]==\"male\",0,1)\n",
        "data[\"Embarked_cleaned\"]=np.where(data[\"Embarked\"]==\"S\",0,\n",
        "                                  np.where(data[\"Embarked\"]==\"C\",1,\n",
        "                                           np.where(data[\"Embarked\"]==\"Q\",2,3)\n",
        "                                          )\n",
        "                                 )\n",
        "# Cleaning dataset of NaN\n",
        "data=data[[\n",
        "    \"Survived\",\n",
        "    \"Pclass\",\n",
        "    \"Sex_cleaned\",\n",
        "    \"Age\",\n",
        "    \"SibSp\",\n",
        "    \"Parch\",\n",
        "    \"Fare\",\n",
        "    \"Embarked_cleaned\"\n",
        "]].dropna(axis=0, how='any')\n",
        "\n",
        "# Split dataset in training and test datasets\n",
        "X_train, X_test = train_test_split(data, test_size=0.2,random_state=1)\n"
      ],
      "execution_count": 57,
      "outputs": []
    },
    {
      "cell_type": "code",
      "metadata": {
        "colab": {
          "base_uri": "https://localhost:8080/"
        },
        "id": "ylvNpQ_Fc3qc",
        "outputId": "ec069482-82e6-4a20-9385-3587cd05b769"
      },
      "source": [
        "print('Tamaño train set', X_train.shape[0])\n",
        "print('Tamaño test set', X_test.shape[0])"
      ],
      "execution_count": 58,
      "outputs": [
        {
          "output_type": "stream",
          "text": [
            "Tamaño train set 571\n",
            "Tamaño test set 143\n"
          ],
          "name": "stdout"
        }
      ]
    },
    {
      "cell_type": "code",
      "metadata": {
        "colab": {
          "base_uri": "https://localhost:8080/"
        },
        "id": "vhz7QVNJBh5U",
        "outputId": "ad9e9bb8-7c8b-49a5-9ff3-413e05b212c8"
      },
      "source": [
        "# Instantiate the classifier\n",
        "gnb = GaussianNB()\n",
        "used_features =[\n",
        "    \"Pclass\",\n",
        "    \"Sex_cleaned\",\n",
        "    \"Age\",\n",
        "    \"SibSp\",\n",
        "    \"Parch\",\n",
        "    \"Fare\",\n",
        "    \"Embarked_cleaned\"\n",
        "]\n",
        "\n",
        "# Train classifier\n",
        "gnb.fit(\n",
        "    X_train[used_features].values,\n",
        "    X_train[\"Survived\"]\n",
        ")\n",
        "y_pred = gnb.predict(X_test[used_features])\n",
        "\n",
        "# Print results\n",
        "print(\"Number of mislabeled points out of a total {} points : {}, performance {:05.2f}%\"\n",
        "      .format(\n",
        "          X_test.shape[0],\n",
        "          (X_test[\"Survived\"] != y_pred).sum(),\n",
        "          100*(1-(X_test[\"Survived\"] != y_pred).sum()/X_test.shape[0])\n",
        "))"
      ],
      "execution_count": 59,
      "outputs": [
        {
          "output_type": "stream",
          "text": [
            "Number of mislabeled points out of a total 143 points : 31, performance 78.32%\n"
          ],
          "name": "stdout"
        }
      ]
    },
    {
      "cell_type": "markdown",
      "metadata": {
        "id": "bi3m-lykDSW3"
      },
      "source": [
        "# Sklearn Gaussian Naive Bayes classifier"
      ]
    },
    {
      "cell_type": "code",
      "metadata": {
        "colab": {
          "base_uri": "https://localhost:8080/"
        },
        "id": "bK_wikYqdbdp",
        "outputId": "b27e3ce5-caba-4d79-876b-637cd5f571b4"
      },
      "source": [
        "mean_survival=np.mean(X_train[\"Survived\"])\n",
        "mean_not_survival=1-mean_survival\n",
        "print(\"Survival prob = {:03.2f}%, Not survival prob = {:03.2f}%\"\n",
        "      .format(100*mean_survival,100*mean_not_survival))"
      ],
      "execution_count": 60,
      "outputs": [
        {
          "output_type": "stream",
          "text": [
            "Survival prob = 40.81%, Not survival prob = 59.19%\n"
          ],
          "name": "stdout"
        }
      ]
    },
    {
      "cell_type": "code",
      "metadata": {
        "colab": {
          "base_uri": "https://localhost:8080/"
        },
        "id": "duq6NGidglgR",
        "outputId": "ff15607e-d6c9-40f5-8946-0559e5910b21"
      },
      "source": [
        "mean_fare_survived = np.mean(X_train[X_train[\"Survived\"]==1][\"Fare\"])\n",
        "std_fare_survived = np.std(X_train[X_train[\"Survived\"]==1][\"Fare\"])\n",
        "\n",
        "mean_fare_not_survived = np.mean(X_train[X_train[\"Survived\"]==0][\"Fare\"])\n",
        "std_fare_not_survived = np.std(X_train[X_train[\"Survived\"]==0][\"Fare\"])\n",
        "\n",
        "print(\"mean_fare_survived = {:03.2f}\".format(mean_fare_survived))\n",
        "print(\"std_fare_survived = {:03.2f}\".format(std_fare_survived))\n",
        "\n",
        "print(\"mean_fare_not_survived = {:03.2f}\".format(mean_fare_not_survived))\n",
        "print(\"std_fare_not_survived = {:03.2f}\".format(std_fare_not_survived))\n"
      ],
      "execution_count": 64,
      "outputs": [
        {
          "output_type": "stream",
          "text": [
            "mean_fare_survived = 51.72\n",
            "std_fare_survived = 71.69\n",
            "mean_fare_not_survived = 23.02\n",
            "std_fare_not_survived = 30.79\n"
          ],
          "name": "stdout"
        }
      ]
    },
    {
      "cell_type": "code",
      "metadata": {
        "colab": {
          "base_uri": "https://localhost:8080/",
          "height": 368
        },
        "id": "oGoBfuT0F-cG",
        "outputId": "64cd3fe0-274a-4817-eaad-ff11dc971340"
      },
      "source": [
        "import seaborn as sns\n",
        "from scipy.stats import norm\n",
        "# Normal Fit\n",
        "sns.distplot(X_train[X_train[\"Survived\"]==0][\"Fare\"], fit=norm,kde=False,color='g');\n",
        "sns.distplot(X_train[X_train[\"Survived\"]==1][\"Fare\"], fit=norm,kde=False,color='m');"
      ],
      "execution_count": 81,
      "outputs": [
        {
          "output_type": "stream",
          "text": [
            "/usr/local/lib/python3.7/dist-packages/seaborn/distributions.py:2557: FutureWarning: `distplot` is a deprecated function and will be removed in a future version. Please adapt your code to use either `displot` (a figure-level function with similar flexibility) or `histplot` (an axes-level function for histograms).\n",
            "  warnings.warn(msg, FutureWarning)\n",
            "/usr/local/lib/python3.7/dist-packages/seaborn/distributions.py:2557: FutureWarning: `distplot` is a deprecated function and will be removed in a future version. Please adapt your code to use either `displot` (a figure-level function with similar flexibility) or `histplot` (an axes-level function for histograms).\n",
            "  warnings.warn(msg, FutureWarning)\n"
          ],
          "name": "stderr"
        },
        {
          "output_type": "display_data",
          "data": {
            "image/png": "[encoded data removed]",
            "text/plain": [
              "<Figure size 432x288 with 1 Axes>"
            ]
          },
          "metadata": {
            "tags": [],
            "needs_background": "light"
          }
        }
      ]
    },
    {
      "cell_type": "code",
      "metadata": {
        "colab": {
          "base_uri": "https://localhost:8080/",
          "height": 441
        },
        "id": "1KhPmMvbjE55",
        "outputId": "6153c898-627c-4d98-eeef-74c706402a6e"
      },
      "source": [
        "#KDE estimation\n",
        "sns.displot(X_train, x=\"Fare\", hue=\"Survived\",kde=True,alpha=1,height=6,hue_order=[1,0]);"
      ],
      "execution_count": 86,
      "outputs": [
        {
          "output_type": "display_data",
          "data": {
            "image/png": "[encoded data removed]",
            "text/plain": [
              "<Figure size 483.875x432 with 1 Axes>"
            ]
          },
          "metadata": {
            "tags": [],
            "needs_background": "light"
          }
        }
      ]
    },
    {
      "cell_type": "code",
      "metadata": {
        "colab": {
          "base_uri": "https://localhost:8080/"
        },
        "id": "f919-oZxDIPh",
        "outputId": "87939996-a2a3-41bb-df4e-9564ac7ad804"
      },
      "source": [
        "from sklearn.naive_bayes import GaussianNB\n",
        "gnb = GaussianNB()\n",
        "used_features =[\"Fare\"]\n",
        "y_pred = gnb.fit(X_train[used_features].values, X_train[\"Survived\"]).predict(X_test[used_features])\n",
        "print(\"Number of mislabeled points out of a total {} points : {}, performance {:05.2f}%\"\n",
        "      .format(\n",
        "          X_test.shape[0],\n",
        "          (X_test[\"Survived\"] != y_pred).sum(),\n",
        "          100*(1-(X_test[\"Survived\"] != y_pred).sum()/X_test.shape[0])\n",
        "))\n",
        "print(\"Std Fare not_survived {:05.2f}\".format(np.sqrt(gnb.sigma_)[0][0]))\n",
        "print(\"Std Fare survived: {:05.2f}\".format(np.sqrt(gnb.sigma_)[1][0]))\n",
        "print(\"Mean Fare not_survived {:05.2f}\".format(gnb.theta_[0][0]))\n",
        "print(\"Mean Fare survived: {:05.2f}\".format(gnb.theta_[1][0]))\n"
      ],
      "execution_count": 87,
      "outputs": [
        {
          "output_type": "stream",
          "text": [
            "Number of mislabeled points out of a total 143 points : 50, performance 65.03%\n",
            "Std Fare not_survived 30.79\n",
            "Std Fare survived: 71.69\n",
            "Mean Fare not_survived 23.02\n",
            "Mean Fare survived: 51.72\n"
          ],
          "name": "stdout"
        }
      ]
    }
  ]
}