{
 "cells": [
  {
   "cell_type": "markdown",
   "id": "f9d92a06",
   "metadata": {},
   "source": [
    "# Ejemplo de Aprendizaje Bayesiano en Contexto Industrial"
   ]
  },
  {
   "cell_type": "markdown",
   "id": "3c842517",
   "metadata": {},
   "source": [
    "    Este cuaderno presenta un ejemplo aplicado de aprendizaje Bayesiano en un contexto industrial, \n",
    "    específicamente para estimar la probabilidad de defectos en una línea de producción.\n",
    "    "
   ]
  },
  {
   "cell_type": "markdown",
   "id": "081495cd",
   "metadata": {},
   "source": [
    "## 1. Importar Librerías Necesarias"
   ]
  },
  {
   "cell_type": "code",
   "execution_count": null,
   "id": "1e513478",
   "metadata": {},
   "outputs": [],
   "source": [
    "import numpy as np\n",
    "import matplotlib.pyplot as plt\n",
    "from scipy.stats import beta\n",
    "plt.style.use('seaborn-darkgrid')\n",
    "    "
   ]
  },
  {
   "cell_type": "markdown",
   "id": "74c28c1c",
   "metadata": {},
   "source": [
    "## 2. Definir la Distribución Previa"
   ]
  },
  {
   "cell_type": "code",
   "execution_count": null,
   "id": "2be61ca8",
   "metadata": {},
   "outputs": [],
   "source": [
    "# Parámetros iniciales para la distribución previa Beta\n",
    "# En este caso, los parámetros se eligen para reflejar una creencia inicial de baja probabilidad de defectos\n",
    "alpha_prior = 1\n",
    "beta_prior = 10\n",
    "prior = beta(alpha_prior, beta_prior)\n",
    "    "
   ]
  },
  {
   "cell_type": "markdown",
   "id": "3ec11a1d",
   "metadata": {},
   "source": [
    "## 3. Observar los Datos"
   ]
  },
  {
   "cell_type": "code",
   "execution_count": null,
   "id": "d193f2b7",
   "metadata": {},
   "outputs": [],
   "source": [
    "# Observaciones de la producción: supongamos que inspeccionamos 100 piezas y encontramos 2 defectuosas\n",
    "piezas_inspeccionadas = 100\n",
    "piezas_defectuosas = 2\n",
    "éxitos = piezas_defectuosas\n",
    "fracasos = piezas_inspeccionadas - piezas_defectuosas\n",
    "    "
   ]
  },
  {
   "cell_type": "markdown",
   "id": "eac1035a",
   "metadata": {},
   "source": [
    "## 4. Actualizar la Creencia (Distribución Posterior)"
   ]
  },
  {
   "cell_type": "code",
   "execution_count": null,
   "id": "f9853c6d",
   "metadata": {},
   "outputs": [],
   "source": [
    "# Actualizar los parámetros para la distribución posterior Beta\n",
    "alpha_posterior = alpha_prior + éxitos\n",
    "beta_posterior = beta_prior + fracasos\n",
    "posterior = beta(alpha_posterior, beta_posterior)\n",
    "    "
   ]
  },
  {
   "cell_type": "markdown",
   "id": "23361e3f",
   "metadata": {},
   "source": [
    "## 5. Visualizar las Distribuciones"
   ]
  },
  {
   "cell_type": "code",
   "execution_count": null,
   "id": "1481d32f",
   "metadata": {},
   "outputs": [],
   "source": [
    "# Función para graficar la distribución Beta\n",
    "def graficar_beta(a, b, datos, título, observaciones=None):\n",
    "    valores_theta = np.linspace(0, 1, 100)\n",
    "    pdf_vals = beta(a, b).pdf(valores_theta)\n",
    "    plt.figure(figsize=(8, 4))\n",
    "    plt.plot(valores_theta, pdf_vals, label=f'Beta(α={a}, β={b})')\n",
    "    if observaciones:\n",
    "        for d in observaciones:\n",
    "            plt.axvline(x=d, color='r', linestyle='--', label='Observación (si aplica)')\n",
    "    plt.title(título)\n",
    "    plt.xlabel('θ (Probabilidad de defecto)')\n",
    "    plt.ylabel('Densidad de Probabilidad')\n",
    "    plt.legend()\n",
    "    plt.show()\n",
    "\n",
    "# Graficar la distribución previa\n",
    "graficar_beta(alpha_prior, beta_prior, [], 'Distribución Previa (Baja probabilidad de defectos)')\n",
    "\n",
    "# Graficar la distribución posterior con las observaciones\n",
    "observaciones = [éxitos / piezas_inspeccionadas]\n",
    "graficar_beta(alpha_posterior, beta_posterior, observaciones, 'Distribución Posterior (Después de inspección)', observaciones)\n",
    "    "
   ]
  }
 ],
 "metadata": {},
 "nbformat": 4,
 "nbformat_minor": 5
}
