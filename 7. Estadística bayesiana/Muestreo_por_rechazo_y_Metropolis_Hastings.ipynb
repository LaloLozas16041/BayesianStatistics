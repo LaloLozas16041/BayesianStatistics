{
  "nbformat": 4,
  "nbformat_minor": 0,
  "metadata": {
    "colab": {
      "name": "Muestreo por rechazo y Metropolis-Hastings",
      "provenance": []
    },
    "kernelspec": {
      "name": "python3",
      "display_name": "Python 3"
    },
    "language_info": {
      "name": "python"
    }
  },
  "cells": [
    {
      "cell_type": "code",
      "metadata": {
        "id": "ND-VqTzkgH7z"
      },
      "source": [
        "#from scipy.stats import beta\n",
        "import matplotlib.pyplot as plt\n",
        "from matplotlib.ticker import PercentFormatter\n",
        "import numpy as np\n",
        "import scipy.stats as stats"
      ],
      "execution_count": 1,
      "outputs": []
    },
    {
      "cell_type": "code",
      "metadata": {
        "id": "WOydBo0MgMqn"
      },
      "source": [
        "def hist_plot(samples):\n",
        "    ticks = ('','10%','','20%','','30%','','40%','','50%','','60%','','70%','','80%','','90%','','100%')\n",
        "    y_pos = np.arange(len(ticks))/20\n",
        "\n",
        "    plt.hist(samples, 20, range=(0,1), rwidth=0.7, color=(0.2, 0.4, 0.6, 0.6), weights=np.ones(len(samples))/len(samples))\n",
        "    plt.xticks(y_pos, ticks)\n",
        "    plt.gca().yaxis.set_major_formatter(PercentFormatter(1))\n",
        "    plt.show()"
      ],
      "execution_count": 2,
      "outputs": []
    },
    {
      "cell_type": "markdown",
      "metadata": {
        "id": "oSpPEv91gSUe"
      },
      "source": [
        "# Distribución Binomial"
      ]
    },
    {
      "cell_type": "code",
      "metadata": {
        "colab": {
          "base_uri": "https://localhost:8080/",
          "height": 286
        },
        "id": "VGlbtq6BgSAr",
        "outputId": "5bab7bfe-c16f-44c8-9c23-23cebcb2ffb0"
      },
      "source": [
        "n=20\n",
        "p=0.5\n",
        "\n",
        "x = np.arange(0,21)\n",
        "plt.plot(x, stats.binom.pmf(x,n,p), 'bo', ms=8)\n",
        "plt.vlines(x,0, stats.binom.pmf(x,n,p), colors=\"b\", lw=5, alpha=0.5)\n",
        "plt.ylim(0,0.2)"
      ],
      "execution_count": 3,
      "outputs": [
        {
          "output_type": "execute_result",
          "data": {
            "text/plain": [
              "(0.0, 0.2)"
            ]
          },
          "metadata": {
            "tags": []
          },
          "execution_count": 3
        },
        {
          "output_type": "display_data",
          "data": {
            "image/png": "[encoded data removed]",
            "text/plain": [
              "<Figure size 432x288 with 1 Axes>"
            ]
          },
          "metadata": {
            "tags": [],
            "needs_background": "light"
          }
        }
      ]
    },
    {
      "cell_type": "markdown",
      "metadata": {
        "id": "9b_HlRprgYUA"
      },
      "source": [
        "#Distribución Uniforme"
      ]
    },
    {
      "cell_type": "code",
      "metadata": {
        "colab": {
          "base_uri": "https://localhost:8080/",
          "height": 286
        },
        "id": "MkWF-H0zgYHf",
        "outputId": "3334ee8a-b0b6-4f5c-9c41-6f5f426893e1"
      },
      "source": [
        "a=1\n",
        "b=1\n",
        "\n",
        "x = np.linspace(0,1,100)\n",
        "plt.plot(x, stats.beta.pdf(x, a, b), 'b-', lw=5, alpha=0.6)\n",
        "plt.ylim(0,5)"
      ],
      "execution_count": 4,
      "outputs": [
        {
          "output_type": "execute_result",
          "data": {
            "text/plain": [
              "(0.0, 5.0)"
            ]
          },
          "metadata": {
            "tags": []
          },
          "execution_count": 4
        },
        {
          "output_type": "display_data",
          "data": {
            "image/png": "[encoded data removed]",
            "text/plain": [
              "<Figure size 432x288 with 1 Axes>"
            ]
          },
          "metadata": {
            "tags": [],
            "needs_background": "light"
          }
        }
      ]
    },
    {
      "cell_type": "markdown",
      "metadata": {
        "id": "ZD3S4Gg5gecM"
      },
      "source": [
        "# Distribución Normal"
      ]
    },
    {
      "cell_type": "code",
      "metadata": {
        "colab": {
          "base_uri": "https://localhost:8080/",
          "height": 286
        },
        "id": "Vpe6vhm1ghL-",
        "outputId": "584f3934-9d38-4820-8ae1-514dcc9d1668"
      },
      "source": [
        "mu=0.5\n",
        "sigma=0.1\n",
        "\n",
        "x = np.linspace(0,1,100)\n",
        "plt.plot(x, stats.norm.pdf(x, mu, sigma), 'b-', lw=5, alpha=0.6)\n",
        "plt.ylim(0,5)"
      ],
      "execution_count": 5,
      "outputs": [
        {
          "output_type": "execute_result",
          "data": {
            "text/plain": [
              "(0.0, 5.0)"
            ]
          },
          "metadata": {
            "tags": []
          },
          "execution_count": 5
        },
        {
          "output_type": "display_data",
          "data": {
            "image/png": "[encoded data removed]",
            "text/plain": [
              "<Figure size 432x288 with 1 Axes>"
            ]
          },
          "metadata": {
            "tags": [],
            "needs_background": "light"
          }
        }
      ]
    },
    {
      "cell_type": "markdown",
      "metadata": {
        "id": "JZGEkf1fglc8"
      },
      "source": [
        "# Distribución Normal estándar"
      ]
    },
    {
      "cell_type": "code",
      "metadata": {
        "colab": {
          "base_uri": "https://localhost:8080/",
          "height": 282
        },
        "id": "RHqdOanZgk3c",
        "outputId": "652a413d-58c5-4662-dd24-52750a2663cc"
      },
      "source": [
        "a, b = -5, 5\n",
        "x = np.linspace(stats.truncnorm.ppf(0.01, a, b),\n",
        "                stats.truncnorm.ppf(0.99, a, b), 100)\n",
        "plt.plot(x, stats.truncnorm.pdf(x, a, b),\n",
        "       'b-', lw=5, alpha=0.6, label='truncnorm pdf')"
      ],
      "execution_count": 6,
      "outputs": [
        {
          "output_type": "execute_result",
          "data": {
            "text/plain": [
              "[<matplotlib.lines.Line2D at 0x7f1af0fc8950>]"
            ]
          },
          "metadata": {
            "tags": []
          },
          "execution_count": 6
        },
        {
          "output_type": "display_data",
          "data": {
            "image/png": "[encoded data removed]",
            "text/plain": [
              "<Figure size 432x288 with 1 Axes>"
            ]
          },
          "metadata": {
            "tags": [],
            "needs_background": "light"
          }
        }
      ]
    },
    {
      "cell_type": "markdown",
      "metadata": {
        "id": "0IYVjQkQgs96"
      },
      "source": [
        "# DIstribución Beta"
      ]
    },
    {
      "cell_type": "code",
      "metadata": {
        "colab": {
          "base_uri": "https://localhost:8080/",
          "height": 286
        },
        "id": "B8qK35ppguc6",
        "outputId": "b1681860-fa32-4791-c1b0-47b32143ab8b"
      },
      "source": [
        "a=12\n",
        "b=12\n",
        "\n",
        "x = np.linspace(0,1,100)\n",
        "plt.plot(x, stats.beta.pdf(x, a, b), 'b-', lw=5, alpha=0.6)\n",
        "plt.ylim(0,5)"
      ],
      "execution_count": 7,
      "outputs": [
        {
          "output_type": "execute_result",
          "data": {
            "text/plain": [
              "(0.0, 5.0)"
            ]
          },
          "metadata": {
            "tags": []
          },
          "execution_count": 7
        },
        {
          "output_type": "display_data",
          "data": {
            "image/png": "[encoded data removed]",
            "text/plain": [
              "<Figure size 432x288 with 1 Axes>"
            ]
          },
          "metadata": {
            "tags": [],
            "needs_background": "light"
          }
        }
      ]
    },
    {
      "cell_type": "code",
      "metadata": {
        "colab": {
          "base_uri": "https://localhost:8080/",
          "height": 286
        },
        "id": "5DGj7hAigy_4",
        "outputId": "2023b315-64e1-4845-d703-173e8a639b9c"
      },
      "source": [
        "a=15\n",
        "b=7\n",
        "\n",
        "x = np.linspace(0,1,100)\n",
        "plt.plot(x, stats.beta.pdf(x, a, b), 'b-', lw=5, alpha=0.6)\n",
        "plt.ylim(0,5)"
      ],
      "execution_count": 8,
      "outputs": [
        {
          "output_type": "execute_result",
          "data": {
            "text/plain": [
              "(0.0, 5.0)"
            ]
          },
          "metadata": {
            "tags": []
          },
          "execution_count": 8
        },
        {
          "output_type": "display_data",
          "data": {
            "image/png": "[encoded data removed]",
            "text/plain": [
              "<Figure size 432x288 with 1 Axes>"
            ]
          },
          "metadata": {
            "tags": [],
            "needs_background": "light"
          }
        }
      ]
    },
    {
      "cell_type": "markdown",
      "metadata": {
        "id": "IxjaKqrig3qf"
      },
      "source": [
        "# Distribución a posteriori exacta"
      ]
    },
    {
      "cell_type": "code",
      "metadata": {
        "colab": {
          "base_uri": "https://localhost:8080/",
          "height": 266
        },
        "id": "sGLTkkvZg2ya",
        "outputId": "d467c78f-797f-46af-df5f-491d556e9b9f"
      },
      "source": [
        "a, b = 1+14, 1+6\n",
        "\n",
        "x = np.linspace(0,1, 21)\n",
        "cdf_beta = stats.beta.cdf(x, a, b)\n",
        "pdf_beta = [cdf_beta[i+1] - cdf_beta[i] for i in range(len(cdf_beta)-1)]\n",
        "ticks = ('','10%','','20%','','30%','','40%','','50%','','60%','','70%','','80%','','90%','','100%')\n",
        "y_pos = np.arange(len(ticks))\n",
        "\n",
        "plt.bar(y_pos, pdf_beta, color=(0.2, 0.4, 0.6, 0.6))\n",
        "plt.xticks(y_pos, ticks)\n",
        "plt.gca().yaxis.set_major_formatter(PercentFormatter(1))\n",
        "plt.show()"
      ],
      "execution_count": 9,
      "outputs": [
        {
          "output_type": "display_data",
          "data": {
            "image/png": "[encoded data removed]",
            "text/plain": [
              "<Figure size 432x288 with 1 Axes>"
            ]
          },
          "metadata": {
            "tags": [],
            "needs_background": "light"
          }
        }
      ]
    },
    {
      "cell_type": "code",
      "metadata": {
        "colab": {
          "base_uri": "https://localhost:8080/"
        },
        "id": "kBe9l7IBg-3J",
        "outputId": "868fca22-f7db-4c40-a545-719b6bf47522"
      },
      "source": [
        "# Test de Hipótesis\n",
        "\n",
        "a=15\n",
        "b=7\n",
        "\n",
        "print(\"Probability of p>0.5: {}\".format(1-stats.beta.cdf(0.5,a,b)))\n",
        "print(\"Probability of p>0.6: {}\".format(1-stats.beta.cdf(0.6,a,b)))\n",
        "print(\"Probability of p>0.7: {}\".format(1-stats.beta.cdf(0.7,a,b)))\n"
      ],
      "execution_count": 10,
      "outputs": [
        {
          "output_type": "stream",
          "text": [
            "Probability of p>0.5: 0.9608230590820312\n",
            "Probability of p>0.6: 0.7997540077480917\n",
            "Probability of p>0.7: 0.449481882625109\n"
          ],
          "name": "stdout"
        }
      ]
    },
    {
      "cell_type": "markdown",
      "metadata": {
        "id": "L-mWDJGUhHrj"
      },
      "source": [
        "# Muestreo por rechazo - Rejection Sampling"
      ]
    },
    {
      "cell_type": "markdown",
      "metadata": {
        "id": "45FGZtoKhSXM"
      },
      "source": [
        "### 1.000 iteraciones"
      ]
    },
    {
      "cell_type": "code",
      "metadata": {
        "id": "-LiOGOxMhHbS"
      },
      "source": [
        "n = 20\n",
        "h = 14\n",
        "it = 1000\n",
        "samples = list()"
      ],
      "execution_count": 11,
      "outputs": []
    },
    {
      "cell_type": "code",
      "metadata": {
        "id": "KjY6bsglhFLE"
      },
      "source": [
        "for _ in range(it):\n",
        "    prior_sample = np.random.beta(1,1)\n",
        "    heads_sample = np.random.binomial(n,prior_sample)\n",
        "    if heads_sample == h:\n",
        "        samples.append(prior_sample)"
      ],
      "execution_count": 12,
      "outputs": []
    },
    {
      "cell_type": "code",
      "metadata": {
        "colab": {
          "base_uri": "https://localhost:8080/",
          "height": 265
        },
        "id": "W4dpreqFhGk8",
        "outputId": "36cc1e93-8e00-464d-efce-8fcbff0cf5f4"
      },
      "source": [
        " hist_plot(samples)"
      ],
      "execution_count": 13,
      "outputs": [
        {
          "output_type": "display_data",
          "data": {
            "image/png": "[encoded data removed]",
            "text/plain": [
              "<Figure size 432x288 with 1 Axes>"
            ]
          },
          "metadata": {
            "tags": [],
            "needs_background": "light"
          }
        }
      ]
    },
    {
      "cell_type": "markdown",
      "metadata": {
        "id": "aKsy5d8ghW8j"
      },
      "source": [
        "### 10.000 iteraciones"
      ]
    },
    {
      "cell_type": "code",
      "metadata": {
        "colab": {
          "base_uri": "https://localhost:8080/",
          "height": 265
        },
        "id": "khBw6yaPhc8_",
        "outputId": "45597bf9-e810-4301-9428-c1a827e63425"
      },
      "source": [
        "n = 20\n",
        "h = 14\n",
        "it = 10000\n",
        "samples = list()\n",
        "\n",
        "for _ in range(it):\n",
        "    prior_sample = np.random.beta(1,1)\n",
        "    heads_sample = np.random.binomial(n,prior_sample)\n",
        "    if heads_sample == h:\n",
        "        samples.append(prior_sample)\n",
        "        \n",
        "hist_plot(samples)"
      ],
      "execution_count": 14,
      "outputs": [
        {
          "output_type": "display_data",
          "data": {
            "image/png": "[encoded data removed]",
            "text/plain": [
              "<Figure size 432x288 with 1 Axes>"
            ]
          },
          "metadata": {
            "tags": [],
            "needs_background": "light"
          }
        }
      ]
    },
    {
      "cell_type": "markdown",
      "metadata": {
        "id": "xTzOCFQshaz0"
      },
      "source": [
        "### 100.000 iteraciones"
      ]
    },
    {
      "cell_type": "code",
      "metadata": {
        "colab": {
          "base_uri": "https://localhost:8080/",
          "height": 265
        },
        "id": "5YKsjOMxhdUf",
        "outputId": "db7a1188-2b67-4ac8-a599-2322810ccd2f"
      },
      "source": [
        "n = 20\n",
        "h = 14\n",
        "it = 100000\n",
        "samples = list()\n",
        "\n",
        "for _ in range(it):\n",
        "    prior_sample = np.random.beta(1,1)\n",
        "    heads_sample = np.random.binomial(n,prior_sample)\n",
        "    if heads_sample == h:\n",
        "        samples.append(prior_sample)\n",
        "hist_plot(samples)"
      ],
      "execution_count": 15,
      "outputs": [
        {
          "output_type": "display_data",
          "data": {
            "image/png": "[encoded data removed]",
            "text/plain": [
              "<Figure size 432x288 with 1 Axes>"
            ]
          },
          "metadata": {
            "tags": [],
            "needs_background": "light"
          }
        }
      ]
    },
    {
      "cell_type": "code",
      "metadata": {
        "colab": {
          "base_uri": "https://localhost:8080/"
        },
        "id": "lO09waLJhmus",
        "outputId": "f31f1acc-e93e-446b-943e-07e4d422131f"
      },
      "source": [
        "print(\"Proportion of accepted samples: {}\".format(len(samples)/it))"
      ],
      "execution_count": 16,
      "outputs": [
        {
          "output_type": "stream",
          "text": [
            "Proportion of accepted samples: 0.04852\n"
          ],
          "name": "stdout"
        }
      ]
    },
    {
      "cell_type": "markdown",
      "metadata": {
        "id": "7q2xJyobhnwy"
      },
      "source": [
        "# Metropolis - Hastings"
      ]
    },
    {
      "cell_type": "markdown",
      "metadata": {
        "id": "m7ktfec0hteR"
      },
      "source": [
        "### 1.000 iteraciones"
      ]
    },
    {
      "cell_type": "code",
      "metadata": {
        "colab": {
          "base_uri": "https://localhost:8080/",
          "height": 265
        },
        "id": "_iSDqcvRhydN",
        "outputId": "7c9a9372-3aa3-4e7c-a2cb-d597b944784a"
      },
      "source": [
        "n = 20\n",
        "h = 14\n",
        "it = 1000\n",
        "samples = list()\n",
        "current_sample = 0.5\n",
        "rejection_count = 0\n",
        "\n",
        "for i in range(it):\n",
        "    prop_sample = max(0,min(1,np.random.normal(current_sample,0.1)))\n",
        "    #prop_sample = np.random.beta(1,1)\n",
        "    current_prob = stats.binom.pmf(h, n, current_sample)\n",
        "    prop_prob = stats.binom.pmf(h, n, prop_sample)\n",
        "    accept_ratio = prop_prob / current_prob\n",
        "    rand = np.random.uniform()\n",
        "    if rand <= accept_ratio:\n",
        "        current_sample = prop_sample\n",
        "    else:\n",
        "        rejection_count += 1\n",
        "    samples.append(current_sample)\n",
        "    \n",
        "hist_plot(samples)"
      ],
      "execution_count": 17,
      "outputs": [
        {
          "output_type": "display_data",
          "data": {
            "image/png": "[encoded data removed]",
            "text/plain": [
              "<Figure size 432x288 with 1 Axes>"
            ]
          },
          "metadata": {
            "tags": [],
            "needs_background": "light"
          }
        }
      ]
    },
    {
      "cell_type": "markdown",
      "metadata": {
        "id": "pvgVkm9qhtQg"
      },
      "source": [
        "### 10.000 iteraciones"
      ]
    },
    {
      "cell_type": "code",
      "metadata": {
        "colab": {
          "base_uri": "https://localhost:8080/",
          "height": 265
        },
        "id": "yAlDde4shysY",
        "outputId": "90a4c47c-5777-4ccb-b2fd-c88eed32bb5b"
      },
      "source": [
        "n = 20\n",
        "h = 14\n",
        "it = 10000\n",
        "samples = list()\n",
        "current_sample = 0.5\n",
        "rejection_count = 0\n",
        "\n",
        "for i in range(it):\n",
        "    prop_sample = max(0,min(1,np.random.normal(current_sample,0.1)))\n",
        "    #prop_sample = np.random.beta(1,1)\n",
        "    current_prob = stats.binom.pmf(h, n, current_sample)\n",
        "    prop_prob = stats.binom.pmf(h, n, prop_sample)\n",
        "    accept_ratio = prop_prob / current_prob\n",
        "    rand = np.random.uniform()\n",
        "    if rand <= accept_ratio:\n",
        "        current_sample = prop_sample\n",
        "    else:\n",
        "        rejection_count += 1\n",
        "    samples.append(current_sample)\n",
        "hist_plot(samples)"
      ],
      "execution_count": 18,
      "outputs": [
        {
          "output_type": "display_data",
          "data": {
            "image/png": "[encoded data removed]",
            "text/plain": [
              "<Figure size 432x288 with 1 Axes>"
            ]
          },
          "metadata": {
            "tags": [],
            "needs_background": "light"
          }
        }
      ]
    },
    {
      "cell_type": "markdown",
      "metadata": {
        "id": "3RsqSNK0hxOl"
      },
      "source": [
        "### 100.000 iteraciones"
      ]
    },
    {
      "cell_type": "code",
      "metadata": {
        "colab": {
          "base_uri": "https://localhost:8080/",
          "height": 265
        },
        "id": "FhyS3lq2hzA0",
        "outputId": "95f6401d-8228-47d1-a2d8-516840c40408"
      },
      "source": [
        "n = 20\n",
        "h = 14\n",
        "it = 100000\n",
        "samples = list()\n",
        "current_sample = 0.5\n",
        "rejection_count = 0\n",
        "\n",
        "for i in range(it):\n",
        "    prop_sample = max(0,min(1,np.random.normal(current_sample,0.1)))\n",
        "    #prop_sample = np.random.beta(1,1)\n",
        "    current_prob = stats.binom.pmf(h, n, current_sample)\n",
        "    prop_prob = stats.binom.pmf(h, n, prop_sample)\n",
        "    accept_ratio = prop_prob / current_prob\n",
        "    rand = np.random.uniform()\n",
        "    if rand <= accept_ratio:\n",
        "        current_sample = prop_sample\n",
        "    else:\n",
        "        rejection_count += 1\n",
        "    samples.append(current_sample)\n",
        "hist_plot(samples)"
      ],
      "execution_count": 19,
      "outputs": [
        {
          "output_type": "display_data",
          "data": {
            "image/png": "[encoded data removed]",
            "text/plain": [
              "<Figure size 432x288 with 1 Axes>"
            ]
          },
          "metadata": {
            "tags": [],
            "needs_background": "light"
          }
        }
      ]
    },
    {
      "cell_type": "code",
      "metadata": {
        "colab": {
          "base_uri": "https://localhost:8080/"
        },
        "id": "rDJRUUdvhzTv",
        "outputId": "5aecad85-c295-49b2-d4a6-0123d19f7db7"
      },
      "source": [
        "print(\"Proportion of accepted samples: {}\".format(1-rejection_count/it))"
      ],
      "execution_count": 20,
      "outputs": [
        {
          "output_type": "stream",
          "text": [
            "Proportion of accepted samples: 0.70129\n"
          ],
          "name": "stdout"
        }
      ]
    }
  ]
}