{
 "cells": [
  {
   "cell_type": "markdown",
   "id": "d41f0114",
   "metadata": {},
   "source": [
    "\n",
    "# Clasificación de mensajes usando Naive Bayes\n",
    "\n",
    "Este notebook demuestra el proceso de clasificación de mensajes de texto como 'spam' o 'no spam' (ham) utilizando el algoritmo Naive Bayes. Se proporciona una explicación paso a paso, desde la preparación de los datos hasta la evaluación del modelo.\n",
    "    "
   ]
  },
  {
   "cell_type": "code",
   "execution_count": 1,
   "id": "8334bc3c",
   "metadata": {},
   "outputs": [],
   "source": [
    "\n",
    "# Importar librerías necesarias\n",
    "import numpy as np\n",
    "from sklearn.model_selection import train_test_split\n",
    "from sklearn.feature_extraction.text import CountVectorizer\n",
    "from sklearn.naive_bayes import MultinomialNB\n",
    "from sklearn.metrics import accuracy_score\n",
    "    "
   ]
  },
  {
   "cell_type": "markdown",
   "id": "63eb5b83",
   "metadata": {},
   "source": [
    "\n",
    "## Preparación de los Datos\n",
    "\n",
    "Los datos consisten en mensajes de texto y sus etiquetas correspondientes ('spam' o 'ham'). Primero, crearemos un conjunto de datos más amplio para trabajar.\n",
    "    "
   ]
  },
  {
   "cell_type": "code",
   "execution_count": 2,
   "id": "6cb648c1",
   "metadata": {},
   "outputs": [],
   "source": [
    "\n",
    "# Conjunto de datos ampliado\n",
    "messages = [\n",
    "    \"¡Gana dinero fácilmente desde tu casa! - spam\",\n",
    "    \"¡Última llamada antes de cerrar tu cuenta! - spam\",\n",
    "    \"¿Quieres salir a cenar esta noche? - ham\",\n",
    "    \"Recordatorio: Presentación a las 10 am. - ham\",\n",
    "    \"Consigue tu préstamo sin garantía ahora - spam\",\n",
    "    \"Buenos días, ¿cómo estás hoy? - ham\",\n",
    "    \"Felicidades, has sido seleccionado para ganar un premio - spam\",\n",
    "    \"Importante: actualización de la política de privacidad - ham\",\n",
    "    \"¿Puedes enviar el informe antes del mediodía? - ham\",\n",
    "    \"Descubre cómo estas celebridades perdieron peso - spam\",\n",
    "    \"Reunión familiar este fin de semana - ham\",\n",
    "    \"Gana un viaje a París - spam\",\n",
    "    \"Recordatorio de la cita con el dentista - ham\",\n",
    "    \"Ahorra en tus facturas de energía - spam\"\n",
    "]\n",
    "\n",
    "# Separar los mensajes de sus etiquetas\n",
    "X = [msg.split(\" - \")[0] for msg in messages]\n",
    "y = [msg.split(\" - \")[1] for msg in messages]\n",
    "\n",
    "# División en entrenamiento y prueba\n",
    "X_train, X_test, y_train, y_test = train_test_split(X, y, test_size=0.25, random_state=42)\n",
    "    "
   ]
  },
  {
   "cell_type": "markdown",
   "id": "d8018fe7",
   "metadata": {},
   "source": [
    "\n",
    "## Extracción de Características\n",
    "\n",
    "Convertiremos los mensajes de texto en una matriz de conteo de tokens utilizando `CountVectorizer`. Esto es necesario para transformar los datos textuales en un formato que el modelo pueda entender.\n",
    "    "
   ]
  },
  {
   "cell_type": "code",
   "execution_count": 3,
   "id": "71417410",
   "metadata": {},
   "outputs": [],
   "source": [
    "\n",
    "# Convertir texto a una matriz de conteo de tokens\n",
    "vectorizer = CountVectorizer()\n",
    "X_train_counts = vectorizer.fit_transform(X_train)\n",
    "X_test_counts = vectorizer.transform(X_test)\n",
    "    "
   ]
  },
  {
   "cell_type": "markdown",
   "id": "2fd16d03",
   "metadata": {},
   "source": [
    "\n",
    "## Entrenamiento del Modelo\n",
    "\n",
    "Ahora entrenaremos un modelo Naive Bayes con los datos de entrenamiento. Utilizaremos el `MultinomialNB` que es adecuado para contar datos como los que tenemos aquí.\n",
    "    "
   ]
  },
  {
   "cell_type": "code",
   "execution_count": 4,
   "id": "3c4bc9d0",
   "metadata": {},
   "outputs": [
    {
     "data": {
      "text/plain": [
       "MultinomialNB()"
      ]
     },
     "execution_count": 4,
     "metadata": {},
     "output_type": "execute_result"
    }
   ],
   "source": [
    "\n",
    "# Entrenar el modelo Naive Bayes\n",
    "clf = MultinomialNB()\n",
    "clf.fit(X_train_counts, y_train)\n",
    "    "
   ]
  },
  {
   "cell_type": "markdown",
   "id": "1ffb4187",
   "metadata": {},
   "source": [
    "\n",
    "## Predicción y Evaluación\n",
    "\n",
    "Con el modelo entrenado, realizaremos predicciones sobre el conjunto de prueba y evaluaremos la precisión del modelo.\n",
    "    "
   ]
  },
  {
   "cell_type": "code",
   "execution_count": 5,
   "id": "b238789d",
   "metadata": {},
   "outputs": [
    {
     "name": "stdout",
     "output_type": "stream",
     "text": [
      "Precisión del modelo: 75.00%\n"
     ]
    }
   ],
   "source": [
    "\n",
    "# Realizar predicciones y evaluar\n",
    "y_pred = clf.predict(X_test_counts)\n",
    "accuracy = accuracy_score(y_test, y_pred)\n",
    "print(f\"Precisión del modelo: {accuracy * 100:.2f}%\")\n",
    "    "
   ]
  },
  {
   "cell_type": "markdown",
   "id": "7f928b65",
   "metadata": {},
   "source": [
    "\n",
    "## Conclusión\n",
    "\n",
    "Este notebook ha demostrado cómo implementar y evaluar un clasificador de Naive Bayes para la tarea de clasificación de mensajes de texto. A pesar de su simplicidad, Naive Bayes puede ser muy efectivo para este tipo de tareas.\n",
    "    "
   ]
  }
 ],
 "metadata": {
  "kernelspec": {
   "display_name": "base",
   "language": "python",
   "name": "python3"
  },
  "language_info": {
   "codemirror_mode": {
    "name": "ipython",
    "version": 3
   },
   "file_extension": ".py",
   "mimetype": "text/x-python",
   "name": "python",
   "nbconvert_exporter": "python",
   "pygments_lexer": "ipython3",
   "version": "3.9.13"
  }
 },
 "nbformat": 4,
 "nbformat_minor": 5
}
