{
  "nbformat": 4,
  "nbformat_minor": 0,
  "metadata": {
    "colab": {
      "name": "Encuestas desde el enfoque bayesiano.ipynb",
      "provenance": []
    },
    "kernelspec": {
      "name": "python3",
      "display_name": "Python 3"
    },
    "language_info": {
      "name": "python"
    }
  },
  "cells": [
    {
      "cell_type": "code",
      "metadata": {
        "colab": {
          "base_uri": "https://localhost:8080/"
        },
        "id": "7-CUH92uUuyo",
        "outputId": "23ed5f89-da01-4831-cf02-091d7fb2ce3b"
      },
      "source": [
        "!pip install thinkbayes2"
      ],
      "execution_count": 2,
      "outputs": [
        {
          "output_type": "stream",
          "text": [
            "Collecting thinkbayes2\n",
            "  Downloading https://files.pythonhosted.org/packages/98/04/57aa8b39fd012fa4571a3f5daf17e068b8d7d7e21dcb93da314a07f346c6/ThinkBayes2-2.0.0.tar.gz\n",
            "Building wheels for collected packages: thinkbayes2\n",
            "  Building wheel for thinkbayes2 (setup.py) ... \u001b[?25l\u001b[?25hdone\n",
            "  Created wheel for thinkbayes2: filename=ThinkBayes2-2.0.0-cp37-none-any.whl size=24813 sha256=c6eb06dddf36fea4eae2b26013a5c28247707ee7d4a4da378df15286c762fc4c\n",
            "  Stored in directory: /root/.cache/pip/wheels/71/92/6f/fe5b61ae2fa085aa5ff7551f2f7b1e43005bd7cf031a2789a4\n",
            "Successfully built thinkbayes2\n",
            "Installing collected packages: thinkbayes2\n",
            "Successfully installed thinkbayes2-2.0.0\n"
          ],
          "name": "stdout"
        }
      ]
    },
    {
      "cell_type": "code",
      "metadata": {
        "colab": {
          "base_uri": "https://localhost:8080/",
          "height": 173
        },
        "id": "SEc3aQiTUjJ2",
        "outputId": "c07c72d5-e97e-4a26-e6c6-0faf0a56523d"
      },
      "source": [
        "\"\"\"This file contains code for use with \"Think Bayes\",\n",
        "by Allen B. Downey, available from greenteapress.com\n",
        "Copyright 2014 Allen B. Downey\n",
        "License: GNU GPLv3 http://www.gnu.org/licenses/gpl.html\n",
        "\"\"\"\n",
        "\n",
        "from __future__ import print_function, division\n",
        "\n",
        "import numpy\n",
        "import thinkbayes2\n",
        "import thinkplot\n",
        "\n",
        "\n",
        "class Electorate(thinkbayes2.Suite):\n",
        "    \"\"\"Represents hypotheses about the state of the electorate.\"\"\"\n",
        "\n",
        "    def Likelihood(self, data, hypo):\n",
        "        \"\"\"Computes the likelihood of the data under the hypothesis.\n",
        "        hypo: fraction of the population that supports your candidate\n",
        "        data: poll results\n",
        "        \"\"\"\n",
        "        bias, std, result = data\n",
        "        error = result - hypo\n",
        "        like = thinkbayes2.EvalNormalPdf(error, bias, std)\n",
        "        return like\n",
        "\n",
        "\n",
        "def main():\n",
        "    hypos = range(0, 101)\n",
        "    suite = Electorate(hypos)\n",
        "\n",
        "    thinkplot.PrePlot(3)\n",
        "    thinkplot.Pdf(suite, label='prior')\n",
        "\n",
        "    data = 1.1, 3.7, 53\n",
        "    suite.Update(data)\n",
        "    thinkplot.Pdf(suite, label='posterior1')\n",
        "    thinkplot.Save(root='electorate1',\n",
        "                   xlabel='percentage of electorate',\n",
        "                   ylabel='PMF',\n",
        "                   formats=['png'],\n",
        "                   clf=False)\n",
        "\n",
        "    print(suite.Mean())\n",
        "    print(suite.Std())\n",
        "    print(suite.ProbLess(50))\n",
        "\n",
        "    data = -2.3, 4.1, 49\n",
        "    suite.Update(data)\n",
        "\n",
        "    thinkplot.Pdf(suite, label='posterior2')\n",
        "    thinkplot.Save(root='electorate2',\n",
        "                   xlabel='percentage of electorate',\n",
        "                   ylabel='PMF',\n",
        "                   formats=['png'])\n",
        "\n",
        "    print(suite.Mean())\n",
        "    print(suite.Std())\n",
        "    print(suite.ProbLess(50))\n",
        "\n",
        "\n",
        "if __name__ == '__main__':\n",
        "    main()\n"
      ],
      "execution_count": 3,
      "outputs": [
        {
          "output_type": "stream",
          "text": [
            "Writing electorate1.png\n",
            "51.900000000000006\n",
            "3.700000000000001\n",
            "0.25764103847667613\n",
            "Writing electorate2.png\n",
            "51.630688524590155\n",
            "2.746854534930012\n",
            "0.21769127902499535\n"
          ],
          "name": "stdout"
        },
        {
          "output_type": "display_data",
          "data": {
            "text/plain": [
              "<Figure size 576x432 with 0 Axes>"
            ]
          },
          "metadata": {
            "tags": []
          }
        }
      ]
    }
  ]
}