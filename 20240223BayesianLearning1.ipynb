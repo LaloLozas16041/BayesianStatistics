{
 "cells": [
  {
   "cell_type": "markdown",
   "id": "bbf2a1ad",
   "metadata": {},
   "source": [
    "# Ejemplo de Aprendizaje Bayesiano con Distribución Beta"
   ]
  },
  {
   "cell_type": "markdown",
   "id": "9dcc7c98",
   "metadata": {},
   "source": [
    "Este cuaderno proporciona un ejemplo detallado del aprendizaje Bayesiano utilizando la distribución Beta como distribución previa y actualizándola con datos observados.   "
   ]
  },
  {
   "cell_type": "markdown",
   "id": "164952a7",
   "metadata": {},
   "source": [
    "## 1. Importar Librerías Necesarias"
   ]
  },
  {
   "cell_type": "code",
   "execution_count": null,
   "id": "7d220582",
   "metadata": {},
   "outputs": [],
   "source": [
    "import numpy as np\n",
    "import matplotlib.pyplot as plt\n",
    "from scipy.stats import beta\n",
    "plt.style.use('seaborn-darkgrid')  # Estilo de gráficos\n",
    "    "
   ]
  },
  {
   "cell_type": "markdown",
   "id": "c44f9919",
   "metadata": {},
   "source": [
    "## 2. Definir la Distribución Previa"
   ]
  },
  {
   "cell_type": "code",
   "execution_count": null,
   "id": "96b5419d",
   "metadata": {},
   "outputs": [],
   "source": [
    "# Parámetros iniciales para la distribución previa Beta\n",
    "alpha_prior = 2\n",
    "beta_prior = 2\n",
    "prior = beta(alpha_prior, beta_prior)\n",
    "    "
   ]
  },
  {
   "cell_type": "markdown",
   "id": "abcb3ca2",
   "metadata": {},
   "source": [
    "## 3. Observar los Datos"
   ]
  },
  {
   "cell_type": "code",
   "execution_count": null,
   "id": "cf5bad84",
   "metadata": {},
   "outputs": [],
   "source": [
    "# Observaciones: 3 éxitos (1's) y 1 fracaso (0)\n",
    "observaciones = [1, 1, 1, 0]\n",
    "éxitos = sum(observaciones)\n",
    "fracasos = len(observaciones) - éxitos\n",
    "    "
   ]
  },
  {
   "cell_type": "markdown",
   "id": "270c084f",
   "metadata": {},
   "source": [
    "## 4. Actualizar la Creencia (Distribución Posterior)"
   ]
  },
  {
   "cell_type": "code",
   "execution_count": null,
   "id": "260af49c",
   "metadata": {},
   "outputs": [],
   "source": [
    "# Actualizar los parámetros para la distribución posterior Beta\n",
    "alpha_posterior = alpha_prior + éxitos\n",
    "beta_posterior = beta_prior + fracasos\n",
    "posterior = beta(alpha_posterior, beta_posterior)\n",
    "    "
   ]
  },
  {
   "cell_type": "markdown",
   "id": "1a2473bf",
   "metadata": {},
   "source": [
    "## 5. Visualizar las Distribuciones"
   ]
  },
  {
   "cell_type": "code",
   "execution_count": null,
   "id": "a76a98a9",
   "metadata": {},
   "outputs": [],
   "source": [
    "# Función para graficar la distribución Beta\n",
    "def graficar_beta(a, b, datos, título):\n",
    "    valores_theta = np.linspace(0, 1, 100)\n",
    "    pdf_vals = beta(a, b).pdf(valores_theta)\n",
    "    plt.figure(figsize=(8, 4))\n",
    "    plt.plot(valores_theta, pdf_vals, label=f'Beta(α={a}, β={b})')\n",
    "    for d in datos:\n",
    "        plt.axvline(x=d, color='r', linestyle='--', label='Observación (si aplica)')\n",
    "    plt.title(título)\n",
    "    plt.xlabel('θ')\n",
    "    plt.ylabel('Densidad de Probabilidad')\n",
    "    plt.legend()\n",
    "    plt.show()\n",
    "\n",
    "# Graficar la distribución previa\n",
    "graficar_beta(alpha_prior, beta_prior, [], 'Distribución Previa')\n",
    "\n",
    "# Graficar la distribución posterior con las observaciones\n",
    "graficar_beta(alpha_posterior, beta_posterior, observaciones, 'Distribución Posterior con Observaciones')\n",
    "    "
   ]
  }
 ],
 "metadata": {
  "kernelspec": {
   "display_name": "Python 3",
   "language": "python",
   "name": "python3"
  },
  "language_info": {
   "name": "python",
   "version": "3.11.7"
  }
 },
 "nbformat": 4,
 "nbformat_minor": 5
}
